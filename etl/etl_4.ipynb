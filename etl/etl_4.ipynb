{
 "cells": [
  {
   "cell_type": "code",
   "execution_count": 1,
   "id": "93cda2f5",
   "metadata": {},
   "outputs": [],
   "source": [
    "#Importing modules\n",
    "import pandas as pd\n",
    "import numpy as np"
   ]
  },
  {
   "cell_type": "code",
   "execution_count": 2,
   "id": "67ca9c89",
   "metadata": {},
   "outputs": [],
   "source": [
    "#reading the estoque dataframe\n",
    "df = pd.read_csv('../data/etl/estoque.csv',index_col=0 )"
   ]
  },
  {
   "cell_type": "code",
   "execution_count": 3,
   "id": "3b107d66",
   "metadata": {},
   "outputs": [],
   "source": [
    "#Getting repeated keys\n",
    "keys = df.groupby(['key']).supplier.nunique()\n",
    "keys = keys[keys>1].keys()"
   ]
  },
  {
   "cell_type": "code",
   "execution_count": 4,
   "id": "6ee722be",
   "metadata": {},
   "outputs": [],
   "source": [
    "# Copy of dataframe with the repeated keys\n",
    "df2=df[df['key'].isin(keys)].sort_values(by = 'key')"
   ]
  },
  {
   "cell_type": "code",
   "execution_count": 5,
   "id": "e9a88557",
   "metadata": {
    "scrolled": false
   },
   "outputs": [
    {
     "name": "stderr",
     "output_type": "stream",
     "text": [
      "C:\\Users\\eppmi\\AppData\\Local\\Temp/ipykernel_27912/2508169433.py:2: FutureWarning: Indexing with multiple keys (implicitly converted to a tuple of keys) will be deprecated, use a list instead.\n",
      "  min_df = df2.groupby(['key', 'supplier'])['Price','Quantity'].min().unstack()\n"
     ]
    }
   ],
   "source": [
    "# Creating a dataframe with the mim price and quantities\n",
    "min_df = df2.groupby(['key', 'supplier'])['Price','Quantity'].min().unstack()"
   ]
  },
  {
   "cell_type": "code",
   "execution_count": 6,
   "id": "4c6a1b76",
   "metadata": {},
   "outputs": [
    {
     "name": "stdout",
     "output_type": "stream",
     "text": [
      "           Price                                                   Quantity  \\\n",
      "supplier carbwel ima jahu lucios medauto metal real rufato sueyasu  carbwel   \n",
      "key                                                                           \n",
      "0            NaN NaN  NaN    NaN     NaN  9.35  NaN   7.92     NaN      NaN   \n",
      "3rho310    40.83 NaN  NaN  36.05     NaN   NaN  NaN    NaN   35.71      0.0   \n",
      "3rho318      NaN NaN  NaN  58.48     NaN   NaN  NaN    NaN   56.13      NaN   \n",
      "3rho319    62.13 NaN  NaN  41.90     NaN   NaN  NaN    NaN   40.23      0.0   \n",
      "3rho322   126.50 NaN  NaN    NaN     NaN   NaN  NaN    NaN   81.29      0.0   \n",
      "\n",
      "                                                            \n",
      "supplier ima jahu lucios medauto metal real rufato sueyasu  \n",
      "key                                                         \n",
      "0        NaN  NaN    NaN     NaN   0.0  NaN    1.0     NaN  \n",
      "3rho310  NaN  NaN   56.0     NaN   NaN  NaN    NaN     0.0  \n",
      "3rho318  NaN  NaN    7.0     NaN   NaN  NaN    NaN     0.0  \n",
      "3rho319  NaN  NaN    8.0     NaN   NaN  NaN    NaN     0.0  \n",
      "3rho322  NaN  NaN    NaN     NaN   NaN  NaN    NaN     0.0  \n"
     ]
    }
   ],
   "source": [
    "print(min_df.head())"
   ]
  },
  {
   "cell_type": "code",
   "execution_count": 7,
   "id": "0b3d4223",
   "metadata": {},
   "outputs": [],
   "source": [
    "#Creating a dataframe to get only the prices\n",
    "df_price_min = df2.groupby(by=['key', 'supplier'])['Price'].min().unstack()"
   ]
  },
  {
   "cell_type": "code",
   "execution_count": 8,
   "id": "5126915b",
   "metadata": {},
   "outputs": [],
   "source": [
    "# Get a array with the minimun price for each row\n",
    "price_min = df_price_min.min(axis=1).values"
   ]
  },
  {
   "cell_type": "code",
   "execution_count": 9,
   "id": "2a9a9058",
   "metadata": {},
   "outputs": [],
   "source": [
    "# Start with a empty list for the quantities and other for temporary use\n",
    "min_q=[]\n",
    "temp = []\n",
    "sumed=[]\n",
    "\n",
    "#Iterate through the range of the min DF\n",
    "for row in range(len(min_df)):\n",
    "    #Iterate through each key tuple\n",
    "    for k in min_df.keys():\n",
    "        # If the key is 'Price' and the correponding row and price column are equal to the minimum from the price array\n",
    "        # then append the corresponding supplier row to the temp list \n",
    "        if k[0] == 'Price' and min_df['Price'][k[1]][row] == price_min[row]:\n",
    "            temp.append(min_df['Quantity'][k[1]][row])\n",
    "    # If there is any value in the temp list get the min and the sum and append to the min_q and sumed lists\n",
    "    # , then reset the list\n",
    "    if len(temp) > 0:\n",
    "            min_q.append(np.min(temp))\n",
    "            sumed.append(sum(temp))\n",
    "            temp=[]\n",
    "    else:\n",
    "        temp=[]\n"
   ]
  },
  {
   "cell_type": "code",
   "execution_count": 10,
   "id": "b8d1ac1e",
   "metadata": {},
   "outputs": [],
   "source": [
    "# Add the col to the dataframe\n",
    "min_df['sum_min_quantity'] = min_q"
   ]
  },
  {
   "cell_type": "code",
   "execution_count": 12,
   "id": "d7b9051b",
   "metadata": {},
   "outputs": [],
   "source": [
    "min_df.to_csv('../data/etl/fourth_etl.csv')"
   ]
  },
  {
   "cell_type": "code",
   "execution_count": 13,
   "id": "296c6207",
   "metadata": {},
   "outputs": [
    {
     "name": "stderr",
     "output_type": "stream",
     "text": [
      "C:\\Users\\eppmi\\AppData\\Local\\Temp/ipykernel_27912/3169794828.py:2: FutureWarning: The pandas.datetime class is deprecated and will be removed from pandas in a future version. Import from datetime module instead.\n",
      "  min_df.to_csv('../data/text_output/fourth_etl{}.txt'.format(pd.datetime.now().strftime(\"%Y-%m-%d %H-%M-%S\")))\n"
     ]
    }
   ],
   "source": [
    "#Save with timestamp\n",
    "min_df.to_csv('../data/text_output/fourth_etl{}.txt'.format(pd.datetime.now().strftime(\"%Y-%m-%d %H-%M-%S\")))"
   ]
  },
  {
   "cell_type": "code",
   "execution_count": null,
   "id": "2daa0b67",
   "metadata": {},
   "outputs": [],
   "source": []
  }
 ],
 "metadata": {
  "hide_input": false,
  "kernelspec": {
   "display_name": "Python 3 (ipykernel)",
   "language": "python",
   "name": "python3"
  },
  "language_info": {
   "codemirror_mode": {
    "name": "ipython",
    "version": 3
   },
   "file_extension": ".py",
   "mimetype": "text/x-python",
   "name": "python",
   "nbconvert_exporter": "python",
   "pygments_lexer": "ipython3",
   "version": "3.9.7"
  },
  "varInspector": {
   "cols": {
    "lenName": 16,
    "lenType": 16,
    "lenVar": 40
   },
   "kernels_config": {
    "python": {
     "delete_cmd_postfix": "",
     "delete_cmd_prefix": "del ",
     "library": "var_list.py",
     "varRefreshCmd": "print(var_dic_list())"
    },
    "r": {
     "delete_cmd_postfix": ") ",
     "delete_cmd_prefix": "rm(",
     "library": "var_list.r",
     "varRefreshCmd": "cat(var_dic_list()) "
    }
   },
   "types_to_exclude": [
    "module",
    "function",
    "builtin_function_or_method",
    "instance",
    "_Feature"
   ],
   "window_display": false
  }
 },
 "nbformat": 4,
 "nbformat_minor": 5
}
