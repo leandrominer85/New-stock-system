{
 "cells": [
  {
   "cell_type": "code",
   "execution_count": null,
   "id": "e5e5167b",
   "metadata": {},
   "outputs": [],
   "source": [
    "import pandas as pd\n",
    "import re"
   ]
  },
  {
   "cell_type": "markdown",
   "id": "5d4193f0",
   "metadata": {},
   "source": [
    "## First ETL"
   ]
  },
  {
   "cell_type": "markdown",
   "id": "5a3652d1",
   "metadata": {},
   "source": [
    "### Function to clean strings:"
   ]
  },
  {
   "cell_type": "code",
   "execution_count": null,
   "id": "48212e7b",
   "metadata": {},
   "outputs": [],
   "source": [
    "def string_cleaner(dataframe,col):\n",
    "    \n",
    "    \"\"\"\n",
    "    Remove all special characters, remove '&' and '-', remove double spaces and end and start string spaces.\n",
    "    Return the cleaned Dataframe\n",
    "    \n",
    "    Inputs:\n",
    "    \n",
    "    dataframe : A pandas dataframe\n",
    "    col : A collumn name as string\n",
    "    \n",
    "    \"\"\"\n",
    "    df[col] = df[col].str.lower().replace('[^a-zA-Z0-9]', '')\n",
    "    df[col] = df[col].str.replace('[&-/]', ' ')\n",
    "    df[col] = df[col].str.replace('  ', ' ')\n",
    "    df[col] = df[col].str.strip()\n",
    "    return df"
   ]
  },
  {
   "cell_type": "code",
   "execution_count": null,
   "id": "969147e5",
   "metadata": {
    "scrolled": true
   },
   "outputs": [],
   "source": [
    "#Original DF\n",
    "df = pd.read_csv('../data/merged_database/combined.csv' , index_col=0, dtype={'Quantity': str, 'Price': str})"
   ]
  },
  {
   "cell_type": "code",
   "execution_count": null,
   "id": "ae39b3bf",
   "metadata": {},
   "outputs": [],
   "source": [
    "#Original size:\n",
    "df.info()"
   ]
  },
  {
   "cell_type": "code",
   "execution_count": null,
   "id": "f3e04aea",
   "metadata": {},
   "outputs": [],
   "source": [
    "# Cleaning the two string cols:\n",
    "string_cleaner(df,'Manufacturer')\n",
    "string_cleaner(df,'Partnumber')"
   ]
  },
  {
   "cell_type": "markdown",
   "id": "17380839",
   "metadata": {},
   "source": [
    "### Transforming the price col:"
   ]
  },
  {
   "cell_type": "code",
   "execution_count": null,
   "id": "f0a3601b",
   "metadata": {},
   "outputs": [],
   "source": [
    "df['Price'] = df['Price'].astype(str)\n",
    "df['Price'] = df['Price'].apply(lambda x: x.replace(',','.'))\n",
    "df['Price'] = pd.to_numeric(df['Price'],errors='coerce').round(2)"
   ]
  },
  {
   "cell_type": "markdown",
   "id": "bf4800f7",
   "metadata": {},
   "source": [
    "### Dics to alter the quantity col:"
   ]
  },
  {
   "cell_type": "code",
   "execution_count": null,
   "id": "921322e4",
   "metadata": {},
   "outputs": [],
   "source": [
    "compel = {\"Indisponível\" : '0',\n",
    "'A': '3',\n",
    "'B' : '15',\n",
    " 'C': '20'}"
   ]
  },
  {
   "cell_type": "code",
   "execution_count": null,
   "id": "0ff6c0a4",
   "metadata": {},
   "outputs": [],
   "source": [
    "real = {'A' : '4',\n",
    "'B' : '11'}"
   ]
  },
  {
   "cell_type": "code",
   "execution_count": null,
   "id": "f40d9dca",
   "metadata": {
    "scrolled": true
   },
   "outputs": [],
   "source": [
    "# Changing compel\n",
    "df[df.supplier == 'compel'] = df[df.supplier == 'compel'].replace(compel, regex=True)"
   ]
  },
  {
   "cell_type": "code",
   "execution_count": null,
   "id": "ff11a391",
   "metadata": {},
   "outputs": [],
   "source": [
    "# Changing real\n",
    "df[df.supplier == 'real'] = df[df.supplier == 'real'].replace(compel, regex=True)"
   ]
  },
  {
   "cell_type": "markdown",
   "id": "efaf3ce7",
   "metadata": {},
   "source": [
    "### Modifying the Quantity col:"
   ]
  },
  {
   "cell_type": "code",
   "execution_count": null,
   "id": "3f8cf45c",
   "metadata": {
    "scrolled": true
   },
   "outputs": [],
   "source": [
    "# Replace '>' and white spaces\n",
    "df.Quantity = df.Quantity.str.replace('>', '')\n",
    "df.Quantity = df.Quantity.str.strip()"
   ]
  },
  {
   "cell_type": "code",
   "execution_count": null,
   "id": "62424990",
   "metadata": {},
   "outputs": [],
   "source": [
    "#transforming to numeric\n",
    "df.Quantity =pd.to_numeric(df['Quantity'],errors='coerce')"
   ]
  },
  {
   "cell_type": "code",
   "execution_count": null,
   "id": "f22ffd79",
   "metadata": {},
   "outputs": [],
   "source": [
    "# Creating the key col:\n",
    "df['key'] = df.Manufacturer+df.Partnumber"
   ]
  },
  {
   "cell_type": "code",
   "execution_count": null,
   "id": "2774c41b",
   "metadata": {},
   "outputs": [],
   "source": [
    "#Creating the pointer col:\n",
    "df['pointer'] = df.supplier+df.Manufacturer+df.Partnumber"
   ]
  },
  {
   "cell_type": "code",
   "execution_count": null,
   "id": "0c372cd9",
   "metadata": {},
   "outputs": [],
   "source": [
    "# Size of the first etl dataframe\n",
    "df.info()"
   ]
  },
  {
   "cell_type": "code",
   "execution_count": null,
   "id": "b8a53186",
   "metadata": {},
   "outputs": [],
   "source": [
    "# Partnumber as string\n",
    "df.Partnumber = df.Partnumber.astype(str)"
   ]
  },
  {
   "cell_type": "code",
   "execution_count": null,
   "id": "510ce9a6",
   "metadata": {
    "scrolled": true
   },
   "outputs": [],
   "source": [
    "# Removing the dots in Partnumber\n",
    "df.Partnumber = df.Partnumber.str.replace(\".\",\"\")"
   ]
  },
  {
   "cell_type": "code",
   "execution_count": null,
   "id": "ff8a5778",
   "metadata": {},
   "outputs": [],
   "source": [
    "#Removing white space in Partnumber\n",
    "df.Partnumber = df.Partnumber.str.strip()\n",
    "df.Partnumber = df.Partnumber.str.replace(\" \",\"\")"
   ]
  },
  {
   "cell_type": "code",
   "execution_count": null,
   "id": "af20a55b",
   "metadata": {},
   "outputs": [],
   "source": [
    "# Manufacturer as string\n",
    "df.Manufacturer = df.Manufacturer.astype(str)"
   ]
  },
  {
   "cell_type": "code",
   "execution_count": null,
   "id": "2510879d",
   "metadata": {
    "scrolled": true
   },
   "outputs": [],
   "source": [
    "# Removing the dots in Partnumber\n",
    "df.Manufacturer = df.Manufacturer.str.replace(\".\",\"\")"
   ]
  },
  {
   "cell_type": "code",
   "execution_count": null,
   "id": "e4d30646",
   "metadata": {},
   "outputs": [],
   "source": [
    "#Removing white space in Partnumber\n",
    "df.Manufacturer = df.Manufacturer.str.strip()\n",
    "df.Manufacturer = df.Manufacturer.str.replace(\" \",\"\")"
   ]
  },
  {
   "cell_type": "code",
   "execution_count": null,
   "id": "44590255",
   "metadata": {},
   "outputs": [],
   "source": [
    "# Fill Nans with 0\n",
    "df = df.replace(\"\", 0)\n",
    "df = df.replace(\"nan\",0)\n",
    "df = df.fillna(0)"
   ]
  },
  {
   "cell_type": "code",
   "execution_count": null,
   "id": "f705c373",
   "metadata": {
    "scrolled": true
   },
   "outputs": [],
   "source": [
    "# Removing empty Manufactures\n",
    "df = df[df.Manufacturer != 0]"
   ]
  },
  {
   "cell_type": "code",
   "execution_count": null,
   "id": "6b2265cb",
   "metadata": {},
   "outputs": [],
   "source": [
    "df.to_csv('../data/etl/first_etl.csv')"
   ]
  },
  {
   "cell_type": "markdown",
   "id": "9d0d41c4",
   "metadata": {},
   "source": [
    "## Second ETL (for each step i show the size of the modifield dataframe)"
   ]
  },
  {
   "cell_type": "code",
   "execution_count": null,
   "id": "6ee239bc",
   "metadata": {},
   "outputs": [],
   "source": [
    "#parts having a quantity equal to 0\n",
    "\n",
    "df = df[df['Quantity'] !=0]"
   ]
  },
  {
   "cell_type": "code",
   "execution_count": null,
   "id": "07fcb5fb",
   "metadata": {},
   "outputs": [],
   "source": [
    "df.info()"
   ]
  },
  {
   "cell_type": "code",
   "execution_count": null,
   "id": "569fde78",
   "metadata": {},
   "outputs": [],
   "source": [
    "df.supplier.value_counts()"
   ]
  },
  {
   "cell_type": "code",
   "execution_count": null,
   "id": "d702c2ee",
   "metadata": {},
   "outputs": [],
   "source": [
    "#parts having the quantity blank\n",
    "\n",
    "df = df[df['Quantity'].isna() == False]"
   ]
  },
  {
   "cell_type": "code",
   "execution_count": null,
   "id": "4ead3469",
   "metadata": {},
   "outputs": [],
   "source": [
    "df.info()"
   ]
  },
  {
   "cell_type": "code",
   "execution_count": null,
   "id": "d06a3736",
   "metadata": {},
   "outputs": [],
   "source": [
    "df.supplier.value_counts()"
   ]
  },
  {
   "cell_type": "code",
   "execution_count": null,
   "id": "44c81e2f",
   "metadata": {},
   "outputs": [],
   "source": [
    "#parts having a negative quantity\n",
    "\n",
    "df = df[df['Quantity'] > 0]"
   ]
  },
  {
   "cell_type": "code",
   "execution_count": null,
   "id": "728dc97d",
   "metadata": {},
   "outputs": [],
   "source": [
    "df.info()"
   ]
  },
  {
   "cell_type": "code",
   "execution_count": null,
   "id": "3cd69e14",
   "metadata": {},
   "outputs": [],
   "source": [
    "#parts having a price equal to 0\n",
    "\n",
    "df = df[df['Price'] != 0.]"
   ]
  },
  {
   "cell_type": "code",
   "execution_count": null,
   "id": "5c7e9568",
   "metadata": {
    "scrolled": true
   },
   "outputs": [],
   "source": [
    "df.info()"
   ]
  },
  {
   "cell_type": "code",
   "execution_count": null,
   "id": "67bd7d11",
   "metadata": {},
   "outputs": [],
   "source": [
    "#parts having the price blank\n",
    "df = df[df['Price'].isna() == False]"
   ]
  },
  {
   "cell_type": "code",
   "execution_count": null,
   "id": "f5b7d675",
   "metadata": {},
   "outputs": [],
   "source": [
    "df.info()"
   ]
  },
  {
   "cell_type": "code",
   "execution_count": null,
   "id": "15d08b7e",
   "metadata": {},
   "outputs": [],
   "source": [
    "#parts having the manufacturer blank\n",
    "df = df[df['Manufacturer'].isna() == False]"
   ]
  },
  {
   "cell_type": "code",
   "execution_count": null,
   "id": "b71c6238",
   "metadata": {},
   "outputs": [],
   "source": [
    "df.info()"
   ]
  },
  {
   "cell_type": "code",
   "execution_count": null,
   "id": "2c6b8086",
   "metadata": {},
   "outputs": [],
   "source": [
    "# parts have the partnumber blank\n",
    "df = df[df['Partnumber'].isna() == False]"
   ]
  },
  {
   "cell_type": "code",
   "execution_count": null,
   "id": "f90243ab",
   "metadata": {},
   "outputs": [],
   "source": [
    "df.info()"
   ]
  },
  {
   "cell_type": "code",
   "execution_count": null,
   "id": "68e82972",
   "metadata": {},
   "outputs": [],
   "source": [
    "# Read the synonyms data\n",
    "syn = pd.read_excel(\"../data/synonyms/manufacturers_synonyms.xlsx\")"
   ]
  },
  {
   "cell_type": "code",
   "execution_count": null,
   "id": "b75df18f",
   "metadata": {},
   "outputs": [],
   "source": [
    "# for each entrie replace the values with the syn dataframe:\n",
    "for n,i in enumerate(syn.name_to_be_replaced):\n",
    "    df = df.replace(i,syn.iloc[n,1])"
   ]
  },
  {
   "cell_type": "code",
   "execution_count": null,
   "id": "c519455e",
   "metadata": {},
   "outputs": [],
   "source": []
  },
  {
   "cell_type": "code",
   "execution_count": null,
   "id": "41597491",
   "metadata": {},
   "outputs": [],
   "source": [
    "df.to_csv('../data/etl/second_etl.csv')"
   ]
  }
 ],
 "metadata": {
  "hide_input": false,
  "kernelspec": {
   "display_name": "Python 3 (ipykernel)",
   "language": "python",
   "name": "python3"
  },
  "language_info": {
   "codemirror_mode": {
    "name": "ipython",
    "version": 3
   },
   "file_extension": ".py",
   "mimetype": "text/x-python",
   "name": "python",
   "nbconvert_exporter": "python",
   "pygments_lexer": "ipython3",
   "version": "3.9.7"
  },
  "varInspector": {
   "cols": {
    "lenName": 16,
    "lenType": 16,
    "lenVar": 40
   },
   "kernels_config": {
    "python": {
     "delete_cmd_postfix": "",
     "delete_cmd_prefix": "del ",
     "library": "var_list.py",
     "varRefreshCmd": "print(var_dic_list())"
    },
    "r": {
     "delete_cmd_postfix": ") ",
     "delete_cmd_prefix": "rm(",
     "library": "var_list.r",
     "varRefreshCmd": "cat(var_dic_list()) "
    }
   },
   "types_to_exclude": [
    "module",
    "function",
    "builtin_function_or_method",
    "instance",
    "_Feature"
   ],
   "window_display": false
  }
 },
 "nbformat": 4,
 "nbformat_minor": 5
}
