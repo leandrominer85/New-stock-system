{
 "cells": [
  {
   "cell_type": "code",
   "execution_count": 1,
   "id": "f5cbcbc0",
   "metadata": {},
   "outputs": [],
   "source": [
    "import pandas as pd\n",
    "import re"
   ]
  },
  {
   "cell_type": "markdown",
   "id": "f51a2fcb",
   "metadata": {},
   "source": [
    "## First ETL"
   ]
  },
  {
   "cell_type": "markdown",
   "id": "631a67e2",
   "metadata": {},
   "source": [
    "### Function to clean strings:"
   ]
  },
  {
   "cell_type": "code",
   "execution_count": 2,
   "id": "ec46ba98",
   "metadata": {},
   "outputs": [],
   "source": [
    "def string_cleaner(dataframe,col):\n",
    "    \n",
    "    \"\"\"\n",
    "    Remove all special characters, remove '&' and '-', remove double spaces and end and start string spaces.\n",
    "    Return the cleaned Dataframe\n",
    "    \n",
    "    Inputs:\n",
    "    \n",
    "    dataframe : A pandas dataframe\n",
    "    col : A collumn name as string\n",
    "    \n",
    "    \"\"\"\n",
    "    df[col] = df[col].str.lower().replace('[^a-zA-Z0-9]', '')\n",
    "    df[col] = df[col].str.replace('[&-/]', ' ')\n",
    "    df[col] = df[col].str.replace('  ', ' ')\n",
    "    df[col] = df[col].str.strip()\n",
    "    return df"
   ]
  },
  {
   "cell_type": "code",
   "execution_count": 3,
   "id": "1eb59ae7",
   "metadata": {
    "scrolled": true
   },
   "outputs": [],
   "source": [
    "#Original DF\n",
    "df = pd.read_csv('../data/merged_database/combined.csv' , index_col=0, dtype={'Quantity': str, 'Price': str})"
   ]
  },
  {
   "cell_type": "code",
   "execution_count": 4,
   "id": "aff21860",
   "metadata": {},
   "outputs": [
    {
     "name": "stdout",
     "output_type": "stream",
     "text": [
      "<class 'pandas.core.frame.DataFrame'>\n",
      "Int64Index: 137406 entries, 0 to 137405\n",
      "Data columns (total 5 columns):\n",
      " #   Column        Non-Null Count   Dtype \n",
      "---  ------        --------------   ----- \n",
      " 0   Manufacturer  137273 non-null  object\n",
      " 1   Partnumber    136270 non-null  object\n",
      " 2   Quantity      132860 non-null  object\n",
      " 3   Price         135739 non-null  object\n",
      " 4   supplier      137406 non-null  object\n",
      "dtypes: object(5)\n",
      "memory usage: 6.3+ MB\n"
     ]
    }
   ],
   "source": [
    "#Original size:\n",
    "df.info()"
   ]
  },
  {
   "cell_type": "code",
   "execution_count": 5,
   "id": "61da0c5c",
   "metadata": {},
   "outputs": [
    {
     "name": "stderr",
     "output_type": "stream",
     "text": [
      "C:\\Users\\eppmi\\AppData\\Local\\Temp/ipykernel_18764/2514458280.py:14: FutureWarning: The default value of regex will change from True to False in a future version.\n",
      "  df[col] = df[col].str.replace('[&-/]', ' ')\n"
     ]
    },
    {
     "data": {
      "text/html": [
       "<div>\n",
       "<style scoped>\n",
       "    .dataframe tbody tr th:only-of-type {\n",
       "        vertical-align: middle;\n",
       "    }\n",
       "\n",
       "    .dataframe tbody tr th {\n",
       "        vertical-align: top;\n",
       "    }\n",
       "\n",
       "    .dataframe thead th {\n",
       "        text-align: right;\n",
       "    }\n",
       "</style>\n",
       "<table border=\"1\" class=\"dataframe\">\n",
       "  <thead>\n",
       "    <tr style=\"text-align: right;\">\n",
       "      <th></th>\n",
       "      <th>Manufacturer</th>\n",
       "      <th>Partnumber</th>\n",
       "      <th>Quantity</th>\n",
       "      <th>Price</th>\n",
       "      <th>supplier</th>\n",
       "    </tr>\n",
       "  </thead>\n",
       "  <tbody>\n",
       "    <tr>\n",
       "      <th>0</th>\n",
       "      <td>frisart</td>\n",
       "      <td>40004</td>\n",
       "      <td>1</td>\n",
       "      <td>27.34</td>\n",
       "      <td>metal</td>\n",
       "    </tr>\n",
       "    <tr>\n",
       "      <th>1</th>\n",
       "      <td>sanfil</td>\n",
       "      <td>5045</td>\n",
       "      <td>1</td>\n",
       "      <td>52.58</td>\n",
       "      <td>metal</td>\n",
       "    </tr>\n",
       "    <tr>\n",
       "      <th>2</th>\n",
       "      <td>branil</td>\n",
       "      <td>bcht004a</td>\n",
       "      <td>1</td>\n",
       "      <td>12.3</td>\n",
       "      <td>metal</td>\n",
       "    </tr>\n",
       "    <tr>\n",
       "      <th>3</th>\n",
       "      <td>branil</td>\n",
       "      <td>bcho108</td>\n",
       "      <td>1</td>\n",
       "      <td>22.09</td>\n",
       "      <td>metal</td>\n",
       "    </tr>\n",
       "    <tr>\n",
       "      <th>4</th>\n",
       "      <td>branil</td>\n",
       "      <td>bchv101rv</td>\n",
       "      <td>1</td>\n",
       "      <td>53.15</td>\n",
       "      <td>metal</td>\n",
       "    </tr>\n",
       "    <tr>\n",
       "      <th>...</th>\n",
       "      <td>...</td>\n",
       "      <td>...</td>\n",
       "      <td>...</td>\n",
       "      <td>...</td>\n",
       "      <td>...</td>\n",
       "    </tr>\n",
       "    <tr>\n",
       "      <th>137401</th>\n",
       "      <td>3 rho</td>\n",
       "      <td>7735</td>\n",
       "      <td>3</td>\n",
       "      <td>155.2132</td>\n",
       "      <td>sueyasu</td>\n",
       "    </tr>\n",
       "    <tr>\n",
       "      <th>137402</th>\n",
       "      <td>3 rho</td>\n",
       "      <td>7737</td>\n",
       "      <td>5</td>\n",
       "      <td>146.234</td>\n",
       "      <td>sueyasu</td>\n",
       "    </tr>\n",
       "    <tr>\n",
       "      <th>137403</th>\n",
       "      <td>3 rho</td>\n",
       "      <td>7744</td>\n",
       "      <td>2</td>\n",
       "      <td>153.9712</td>\n",
       "      <td>sueyasu</td>\n",
       "    </tr>\n",
       "    <tr>\n",
       "      <th>137404</th>\n",
       "      <td>3 rho</td>\n",
       "      <td>7748</td>\n",
       "      <td>1</td>\n",
       "      <td>188.93120000000002</td>\n",
       "      <td>sueyasu</td>\n",
       "    </tr>\n",
       "    <tr>\n",
       "      <th>137405</th>\n",
       "      <td>3 rho</td>\n",
       "      <td>7770</td>\n",
       "      <td>1</td>\n",
       "      <td>150.7788</td>\n",
       "      <td>sueyasu</td>\n",
       "    </tr>\n",
       "  </tbody>\n",
       "</table>\n",
       "<p>137406 rows × 5 columns</p>\n",
       "</div>"
      ],
      "text/plain": [
       "       Manufacturer Partnumber Quantity               Price supplier\n",
       "0           frisart      40004        1               27.34    metal\n",
       "1            sanfil       5045        1               52.58    metal\n",
       "2            branil   bcht004a        1                12.3    metal\n",
       "3            branil    bcho108        1               22.09    metal\n",
       "4            branil  bchv101rv        1               53.15    metal\n",
       "...             ...        ...      ...                 ...      ...\n",
       "137401        3 rho       7735        3            155.2132  sueyasu\n",
       "137402        3 rho       7737        5             146.234  sueyasu\n",
       "137403        3 rho       7744        2            153.9712  sueyasu\n",
       "137404        3 rho       7748        1  188.93120000000002  sueyasu\n",
       "137405        3 rho       7770        1            150.7788  sueyasu\n",
       "\n",
       "[137406 rows x 5 columns]"
      ]
     },
     "execution_count": 5,
     "metadata": {},
     "output_type": "execute_result"
    }
   ],
   "source": [
    "# Cleaning the two string cols:\n",
    "string_cleaner(df,'Manufacturer')\n",
    "string_cleaner(df,'Partnumber')"
   ]
  },
  {
   "cell_type": "markdown",
   "id": "9133efd7",
   "metadata": {},
   "source": [
    "### Transforming the price col:"
   ]
  },
  {
   "cell_type": "code",
   "execution_count": 6,
   "id": "41daac88",
   "metadata": {},
   "outputs": [],
   "source": [
    "df['Price'] = df['Price'].astype(str)\n",
    "df['Price'] = df['Price'].apply(lambda x: x.replace(',','.'))\n",
    "df['Price'] = pd.to_numeric(df['Price'],errors='coerce').round(2)"
   ]
  },
  {
   "cell_type": "markdown",
   "id": "b2282d80",
   "metadata": {},
   "source": [
    "### Dics to alter the quantity col:"
   ]
  },
  {
   "cell_type": "code",
   "execution_count": 7,
   "id": "10a90dc9",
   "metadata": {},
   "outputs": [],
   "source": [
    "compel = {\"Indisponível\" : 0,\n",
    "'A': 3,\n",
    "'B' : 15,\n",
    " 'C': 20}"
   ]
  },
  {
   "cell_type": "code",
   "execution_count": 8,
   "id": "7a99937b",
   "metadata": {},
   "outputs": [],
   "source": [
    "real = {'A' : 4,\n",
    "'B' : 11}"
   ]
  },
  {
   "cell_type": "code",
   "execution_count": 9,
   "id": "f36ccdf6",
   "metadata": {
    "scrolled": true
   },
   "outputs": [],
   "source": [
    "# Changing compel\n",
    "df[df.supplier == 'compel'] = df[df.supplier == 'compel'].replace(compel, regex=True)"
   ]
  },
  {
   "cell_type": "code",
   "execution_count": 10,
   "id": "9b9e8ba1",
   "metadata": {},
   "outputs": [],
   "source": [
    "# Changing real\n",
    "df[df.supplier == 'real'] = df[df.supplier == 'real'].replace(compel, regex=True)"
   ]
  },
  {
   "cell_type": "markdown",
   "id": "607afa2b",
   "metadata": {},
   "source": [
    "### Modifying the Quantity col:"
   ]
  },
  {
   "cell_type": "code",
   "execution_count": 11,
   "id": "cd1e902b",
   "metadata": {
    "scrolled": true
   },
   "outputs": [],
   "source": [
    "# Replace '>' and white spaces\n",
    "df.Quantity = df.Quantity.str.replace('>', '')\n",
    "df.Quantity = df.Quantity.str.strip()"
   ]
  },
  {
   "cell_type": "code",
   "execution_count": 12,
   "id": "9850dedf",
   "metadata": {},
   "outputs": [],
   "source": [
    "#transforming to numeric\n",
    "df.Quantity =pd.to_numeric(df['Quantity'],errors='coerce')"
   ]
  },
  {
   "cell_type": "code",
   "execution_count": 13,
   "id": "4ad4287c",
   "metadata": {},
   "outputs": [],
   "source": [
    "# Creating the key col:\n",
    "df['key'] = df.Manufacturer+df.Partnumber"
   ]
  },
  {
   "cell_type": "code",
   "execution_count": 14,
   "id": "23f413c7",
   "metadata": {},
   "outputs": [],
   "source": [
    "#Creating the pointer col:\n",
    "df['pointer'] = df.supplier+df.Manufacturer+df.Partnumber"
   ]
  },
  {
   "cell_type": "code",
   "execution_count": 15,
   "id": "58e42fd6",
   "metadata": {},
   "outputs": [
    {
     "name": "stdout",
     "output_type": "stream",
     "text": [
      "<class 'pandas.core.frame.DataFrame'>\n",
      "Int64Index: 137406 entries, 0 to 137405\n",
      "Data columns (total 7 columns):\n",
      " #   Column        Non-Null Count   Dtype  \n",
      "---  ------        --------------   -----  \n",
      " 0   Manufacturer  137273 non-null  object \n",
      " 1   Partnumber    136270 non-null  object \n",
      " 2   Quantity      99980 non-null   float64\n",
      " 3   Price         135554 non-null  float64\n",
      " 4   supplier      137406 non-null  object \n",
      " 5   key           136167 non-null  object \n",
      " 6   pointer       136167 non-null  object \n",
      "dtypes: float64(2), object(5)\n",
      "memory usage: 8.4+ MB\n"
     ]
    }
   ],
   "source": [
    "# Size of the first etl dataframe\n",
    "df.info()"
   ]
  },
  {
   "cell_type": "code",
   "execution_count": 16,
   "id": "54b3f79e",
   "metadata": {},
   "outputs": [],
   "source": [
    "df.to_csv('../data/etl/first_etl.csv')"
   ]
  },
  {
   "cell_type": "markdown",
   "id": "30a5a5a4",
   "metadata": {},
   "source": [
    "## Second ETL (for each step i show the size of the modifield dataframe)"
   ]
  },
  {
   "cell_type": "code",
   "execution_count": 17,
   "id": "d4c83d50",
   "metadata": {},
   "outputs": [],
   "source": [
    "#parts having a quantity equal to 0\n",
    "\n",
    "df = df[df['Quantity'] !=0]"
   ]
  },
  {
   "cell_type": "code",
   "execution_count": 18,
   "id": "dd21a72e",
   "metadata": {},
   "outputs": [
    {
     "name": "stdout",
     "output_type": "stream",
     "text": [
      "<class 'pandas.core.frame.DataFrame'>\n",
      "Int64Index: 133378 entries, 0 to 137405\n",
      "Data columns (total 7 columns):\n",
      " #   Column        Non-Null Count   Dtype  \n",
      "---  ------        --------------   -----  \n",
      " 0   Manufacturer  133245 non-null  object \n",
      " 1   Partnumber    132544 non-null  object \n",
      " 2   Quantity      95952 non-null   float64\n",
      " 3   Price         131841 non-null  float64\n",
      " 4   supplier      133378 non-null  object \n",
      " 5   key           132441 non-null  object \n",
      " 6   pointer       132441 non-null  object \n",
      "dtypes: float64(2), object(5)\n",
      "memory usage: 8.1+ MB\n"
     ]
    }
   ],
   "source": [
    "df.info()"
   ]
  },
  {
   "cell_type": "code",
   "execution_count": 19,
   "id": "d0dcdcd8",
   "metadata": {},
   "outputs": [],
   "source": [
    "#parts having the quantity blank\n",
    "\n",
    "df = df[df['Quantity'].isna() == False]"
   ]
  },
  {
   "cell_type": "code",
   "execution_count": 20,
   "id": "1002d64a",
   "metadata": {},
   "outputs": [
    {
     "name": "stdout",
     "output_type": "stream",
     "text": [
      "<class 'pandas.core.frame.DataFrame'>\n",
      "Int64Index: 95952 entries, 0 to 137405\n",
      "Data columns (total 7 columns):\n",
      " #   Column        Non-Null Count  Dtype  \n",
      "---  ------        --------------  -----  \n",
      " 0   Manufacturer  95915 non-null  object \n",
      " 1   Partnumber    95127 non-null  object \n",
      " 2   Quantity      95952 non-null  float64\n",
      " 3   Price         94613 non-null  float64\n",
      " 4   supplier      95952 non-null  object \n",
      " 5   key           95120 non-null  object \n",
      " 6   pointer       95120 non-null  object \n",
      "dtypes: float64(2), object(5)\n",
      "memory usage: 5.9+ MB\n"
     ]
    }
   ],
   "source": [
    "df.info()"
   ]
  },
  {
   "cell_type": "code",
   "execution_count": 21,
   "id": "6cbbf7f3",
   "metadata": {},
   "outputs": [],
   "source": [
    "#parts having a negative quantity\n",
    "\n",
    "df = df[df['Quantity'] > 0]"
   ]
  },
  {
   "cell_type": "code",
   "execution_count": 22,
   "id": "13a7f280",
   "metadata": {},
   "outputs": [
    {
     "name": "stdout",
     "output_type": "stream",
     "text": [
      "<class 'pandas.core.frame.DataFrame'>\n",
      "Int64Index: 95952 entries, 0 to 137405\n",
      "Data columns (total 7 columns):\n",
      " #   Column        Non-Null Count  Dtype  \n",
      "---  ------        --------------  -----  \n",
      " 0   Manufacturer  95915 non-null  object \n",
      " 1   Partnumber    95127 non-null  object \n",
      " 2   Quantity      95952 non-null  float64\n",
      " 3   Price         94613 non-null  float64\n",
      " 4   supplier      95952 non-null  object \n",
      " 5   key           95120 non-null  object \n",
      " 6   pointer       95120 non-null  object \n",
      "dtypes: float64(2), object(5)\n",
      "memory usage: 5.9+ MB\n"
     ]
    }
   ],
   "source": [
    "df.info()"
   ]
  },
  {
   "cell_type": "code",
   "execution_count": 23,
   "id": "9e92fdf1",
   "metadata": {},
   "outputs": [],
   "source": [
    "#parts having a price equal to 0\n",
    "\n",
    "df = df[df['Price'] != 0.]"
   ]
  },
  {
   "cell_type": "code",
   "execution_count": 24,
   "id": "8cd4f4f1",
   "metadata": {
    "scrolled": true
   },
   "outputs": [
    {
     "name": "stdout",
     "output_type": "stream",
     "text": [
      "<class 'pandas.core.frame.DataFrame'>\n",
      "Int64Index: 95117 entries, 0 to 137405\n",
      "Data columns (total 7 columns):\n",
      " #   Column        Non-Null Count  Dtype  \n",
      "---  ------        --------------  -----  \n",
      " 0   Manufacturer  95087 non-null  object \n",
      " 1   Partnumber    94301 non-null  object \n",
      " 2   Quantity      95117 non-null  float64\n",
      " 3   Price         93778 non-null  float64\n",
      " 4   supplier      95117 non-null  object \n",
      " 5   key           94294 non-null  object \n",
      " 6   pointer       94294 non-null  object \n",
      "dtypes: float64(2), object(5)\n",
      "memory usage: 5.8+ MB\n"
     ]
    }
   ],
   "source": [
    "df.info()"
   ]
  },
  {
   "cell_type": "code",
   "execution_count": 25,
   "id": "08df17d1",
   "metadata": {},
   "outputs": [],
   "source": [
    "#parts having the price blank\n",
    "df = df[df['Price'].isna() == False]"
   ]
  },
  {
   "cell_type": "code",
   "execution_count": 26,
   "id": "79d74b5a",
   "metadata": {},
   "outputs": [
    {
     "name": "stdout",
     "output_type": "stream",
     "text": [
      "<class 'pandas.core.frame.DataFrame'>\n",
      "Int64Index: 93778 entries, 0 to 137405\n",
      "Data columns (total 7 columns):\n",
      " #   Column        Non-Null Count  Dtype  \n",
      "---  ------        --------------  -----  \n",
      " 0   Manufacturer  93748 non-null  object \n",
      " 1   Partnumber    92962 non-null  object \n",
      " 2   Quantity      93778 non-null  float64\n",
      " 3   Price         93778 non-null  float64\n",
      " 4   supplier      93778 non-null  object \n",
      " 5   key           92955 non-null  object \n",
      " 6   pointer       92955 non-null  object \n",
      "dtypes: float64(2), object(5)\n",
      "memory usage: 5.7+ MB\n"
     ]
    }
   ],
   "source": [
    "df.info()"
   ]
  },
  {
   "cell_type": "code",
   "execution_count": 27,
   "id": "7a866daa",
   "metadata": {},
   "outputs": [],
   "source": [
    "#parts having the manufacturer blank\n",
    "df = df[df['Manufacturer'].isna() == False]"
   ]
  },
  {
   "cell_type": "code",
   "execution_count": 28,
   "id": "5249787d",
   "metadata": {},
   "outputs": [
    {
     "name": "stdout",
     "output_type": "stream",
     "text": [
      "<class 'pandas.core.frame.DataFrame'>\n",
      "Int64Index: 93748 entries, 0 to 137405\n",
      "Data columns (total 7 columns):\n",
      " #   Column        Non-Null Count  Dtype  \n",
      "---  ------        --------------  -----  \n",
      " 0   Manufacturer  93748 non-null  object \n",
      " 1   Partnumber    92955 non-null  object \n",
      " 2   Quantity      93748 non-null  float64\n",
      " 3   Price         93748 non-null  float64\n",
      " 4   supplier      93748 non-null  object \n",
      " 5   key           92955 non-null  object \n",
      " 6   pointer       92955 non-null  object \n",
      "dtypes: float64(2), object(5)\n",
      "memory usage: 5.7+ MB\n"
     ]
    }
   ],
   "source": [
    "df.info()"
   ]
  },
  {
   "cell_type": "code",
   "execution_count": 29,
   "id": "365bf03b",
   "metadata": {},
   "outputs": [],
   "source": [
    "# parts have the partnumber blank\n",
    "df = df[df['Partnumber'].isna() == False]"
   ]
  },
  {
   "cell_type": "code",
   "execution_count": 30,
   "id": "1c329d23",
   "metadata": {},
   "outputs": [
    {
     "name": "stdout",
     "output_type": "stream",
     "text": [
      "<class 'pandas.core.frame.DataFrame'>\n",
      "Int64Index: 92955 entries, 0 to 137405\n",
      "Data columns (total 7 columns):\n",
      " #   Column        Non-Null Count  Dtype  \n",
      "---  ------        --------------  -----  \n",
      " 0   Manufacturer  92955 non-null  object \n",
      " 1   Partnumber    92955 non-null  object \n",
      " 2   Quantity      92955 non-null  float64\n",
      " 3   Price         92955 non-null  float64\n",
      " 4   supplier      92955 non-null  object \n",
      " 5   key           92955 non-null  object \n",
      " 6   pointer       92955 non-null  object \n",
      "dtypes: float64(2), object(5)\n",
      "memory usage: 5.7+ MB\n"
     ]
    }
   ],
   "source": [
    "df.info()"
   ]
  },
  {
   "cell_type": "code",
   "execution_count": 32,
   "id": "cc02df77",
   "metadata": {},
   "outputs": [],
   "source": [
    "df.to_csv('../data/etl/second_etl.csv')"
   ]
  }
 ],
 "metadata": {
  "hide_input": false,
  "kernelspec": {
   "display_name": "Python 3 (ipykernel)",
   "language": "python",
   "name": "python3"
  },
  "language_info": {
   "codemirror_mode": {
    "name": "ipython",
    "version": 3
   },
   "file_extension": ".py",
   "mimetype": "text/x-python",
   "name": "python",
   "nbconvert_exporter": "python",
   "pygments_lexer": "ipython3",
   "version": "3.9.7"
  },
  "varInspector": {
   "cols": {
    "lenName": 16,
    "lenType": 16,
    "lenVar": 40
   },
   "kernels_config": {
    "python": {
     "delete_cmd_postfix": "",
     "delete_cmd_prefix": "del ",
     "library": "var_list.py",
     "varRefreshCmd": "print(var_dic_list())"
    },
    "r": {
     "delete_cmd_postfix": ") ",
     "delete_cmd_prefix": "rm(",
     "library": "var_list.r",
     "varRefreshCmd": "cat(var_dic_list()) "
    }
   },
   "types_to_exclude": [
    "module",
    "function",
    "builtin_function_or_method",
    "instance",
    "_Feature"
   ],
   "window_display": false
  }
 },
 "nbformat": 4,
 "nbformat_minor": 5
}
