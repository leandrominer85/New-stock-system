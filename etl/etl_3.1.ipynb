{
 "cells": [
  {
   "cell_type": "code",
   "execution_count": 9,
   "id": "701cbf5b",
   "metadata": {},
   "outputs": [],
   "source": [
    "#Importing modules\n",
    "import pandas as pd\n",
    "import numpy as np\n",
    "import warnings\n",
    "warnings.filterwarnings(\"ignore\")"
   ]
  },
  {
   "cell_type": "code",
   "execution_count": 10,
   "id": "f626ff61",
   "metadata": {},
   "outputs": [],
   "source": [
    "# Reading the cleaned dataframe\n",
    "df =pd.read_csv('../data/etl/second_etl.csv' , index_col=0)"
   ]
  },
  {
   "cell_type": "code",
   "execution_count": 11,
   "id": "03e60ba6",
   "metadata": {},
   "outputs": [],
   "source": [
    "#Reading the dataframe with the stock data\n",
    "estoque = pd.read_excel('../data/controle_do_estoque/Controle do estoque.xlsx')"
   ]
  },
  {
   "cell_type": "code",
   "execution_count": 12,
   "id": "84ea7555",
   "metadata": {},
   "outputs": [],
   "source": [
    "# Selecting the columns\n",
    "estoque = estoque[[\"supplier\", \"days_late\"]]"
   ]
  },
  {
   "cell_type": "code",
   "execution_count": 13,
   "id": "aa2de0d4",
   "metadata": {},
   "outputs": [],
   "source": [
    "# Iterate through each supplier and if the days_late is superior than 10 them it make a slice of the dataframe with\n",
    "# the corresponding supplier and them reset the price to zero and reassign to the original dataframe \n",
    "for s in estoque.supplier:\n",
    "    if np.where(estoque[estoque.supplier == s].days_late > 10,0,99) == 0:\n",
    "        df2 = df[df.supplier == s]\n",
    "        df2.Quantity = 0\n",
    "        df[df.supplier == s] = df2\n",
    "        "
   ]
  },
  {
   "cell_type": "code",
   "execution_count": 15,
   "id": "560b1286",
   "metadata": {},
   "outputs": [],
   "source": [
    "df.to_csv('../data/etl/estoque.csv')"
   ]
  },
  {
   "cell_type": "code",
   "execution_count": 16,
   "id": "e635fa03",
   "metadata": {},
   "outputs": [],
   "source": [
    "#Save with timestamp\n",
    "df.to_csv('../data/text_output/estoque{}.txt'.format(pd.datetime.now().strftime(\"%Y-%m-%d %H-%M-%S\")))"
   ]
  },
  {
   "cell_type": "code",
   "execution_count": null,
   "id": "f10a553b",
   "metadata": {},
   "outputs": [],
   "source": []
  }
 ],
 "metadata": {
  "hide_input": false,
  "kernelspec": {
   "display_name": "Python 3 (ipykernel)",
   "language": "python",
   "name": "python3"
  },
  "language_info": {
   "codemirror_mode": {
    "name": "ipython",
    "version": 3
   },
   "file_extension": ".py",
   "mimetype": "text/x-python",
   "name": "python",
   "nbconvert_exporter": "python",
   "pygments_lexer": "ipython3",
   "version": "3.9.7"
  },
  "varInspector": {
   "cols": {
    "lenName": 16,
    "lenType": 16,
    "lenVar": 40
   },
   "kernels_config": {
    "python": {
     "delete_cmd_postfix": "",
     "delete_cmd_prefix": "del ",
     "library": "var_list.py",
     "varRefreshCmd": "print(var_dic_list())"
    },
    "r": {
     "delete_cmd_postfix": ") ",
     "delete_cmd_prefix": "rm(",
     "library": "var_list.r",
     "varRefreshCmd": "cat(var_dic_list()) "
    }
   },
   "types_to_exclude": [
    "module",
    "function",
    "builtin_function_or_method",
    "instance",
    "_Feature"
   ],
   "window_display": false
  }
 },
 "nbformat": 4,
 "nbformat_minor": 5
}
