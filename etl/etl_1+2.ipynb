{
 "cells": [
  {
   "cell_type": "code",
   "execution_count": 1,
   "id": "e5e5167b",
   "metadata": {},
   "outputs": [],
   "source": [
    "import pandas as pd\n",
    "import re"
   ]
  },
  {
   "cell_type": "markdown",
   "id": "5d4193f0",
   "metadata": {},
   "source": [
    "## First ETL"
   ]
  },
  {
   "cell_type": "markdown",
   "id": "5a3652d1",
   "metadata": {},
   "source": [
    "### Function to clean strings:"
   ]
  },
  {
   "cell_type": "code",
   "execution_count": 2,
   "id": "48212e7b",
   "metadata": {},
   "outputs": [],
   "source": [
    "def string_cleaner(dataframe,col):\n",
    "    \n",
    "    \"\"\"\n",
    "    Remove all special characters, remove '&' and '-', remove double spaces and end and start string spaces.\n",
    "    Return the cleaned Dataframe\n",
    "    \n",
    "    Inputs:\n",
    "    \n",
    "    dataframe : A pandas dataframe\n",
    "    col : A collumn name as string\n",
    "    \n",
    "    \"\"\"\n",
    "    df[col] = df[col].str.lower().replace('[^a-zA-Z0-9]', '')\n",
    "    df[col] = df[col].str.replace('[&-/]', ' ')\n",
    "    df[col] = df[col].str.replace('  ', ' ')\n",
    "    df[col] = df[col].str.strip()\n",
    "    return df"
   ]
  },
  {
   "cell_type": "code",
   "execution_count": 3,
   "id": "969147e5",
   "metadata": {
    "scrolled": true
   },
   "outputs": [],
   "source": [
    "#Original DF\n",
    "df = pd.read_csv('../data/merged_database/combined.csv' , index_col=0, dtype={'Quantity': str, 'Price': str})"
   ]
  },
  {
   "cell_type": "code",
   "execution_count": 4,
   "id": "ae39b3bf",
   "metadata": {},
   "outputs": [
    {
     "name": "stdout",
     "output_type": "stream",
     "text": [
      "<class 'pandas.core.frame.DataFrame'>\n",
      "Int64Index: 137389 entries, 0 to 137388\n",
      "Data columns (total 5 columns):\n",
      " #   Column        Non-Null Count   Dtype \n",
      "---  ------        --------------   ----- \n",
      " 0   Manufacturer  137256 non-null  object\n",
      " 1   Partnumber    137320 non-null  object\n",
      " 2   Quantity      136526 non-null  object\n",
      " 3   Price         137377 non-null  object\n",
      " 4   supplier      137389 non-null  object\n",
      "dtypes: object(5)\n",
      "memory usage: 6.3+ MB\n"
     ]
    }
   ],
   "source": [
    "#Original size:\n",
    "df.info()"
   ]
  },
  {
   "cell_type": "code",
   "execution_count": 5,
   "id": "f3e04aea",
   "metadata": {},
   "outputs": [
    {
     "name": "stderr",
     "output_type": "stream",
     "text": [
      "C:\\Users\\eppmi\\AppData\\Local\\Temp/ipykernel_7548/2514458280.py:14: FutureWarning: The default value of regex will change from True to False in a future version.\n",
      "  df[col] = df[col].str.replace('[&-/]', ' ')\n"
     ]
    },
    {
     "data": {
      "text/html": [
       "<div>\n",
       "<style scoped>\n",
       "    .dataframe tbody tr th:only-of-type {\n",
       "        vertical-align: middle;\n",
       "    }\n",
       "\n",
       "    .dataframe tbody tr th {\n",
       "        vertical-align: top;\n",
       "    }\n",
       "\n",
       "    .dataframe thead th {\n",
       "        text-align: right;\n",
       "    }\n",
       "</style>\n",
       "<table border=\"1\" class=\"dataframe\">\n",
       "  <thead>\n",
       "    <tr style=\"text-align: right;\">\n",
       "      <th></th>\n",
       "      <th>Manufacturer</th>\n",
       "      <th>Partnumber</th>\n",
       "      <th>Quantity</th>\n",
       "      <th>Price</th>\n",
       "      <th>supplier</th>\n",
       "    </tr>\n",
       "  </thead>\n",
       "  <tbody>\n",
       "    <tr>\n",
       "      <th>0</th>\n",
       "      <td>frisart</td>\n",
       "      <td>40004</td>\n",
       "      <td>1</td>\n",
       "      <td>27.34</td>\n",
       "      <td>metal</td>\n",
       "    </tr>\n",
       "    <tr>\n",
       "      <th>1</th>\n",
       "      <td>sanfil</td>\n",
       "      <td>5045</td>\n",
       "      <td>1</td>\n",
       "      <td>52.58</td>\n",
       "      <td>metal</td>\n",
       "    </tr>\n",
       "    <tr>\n",
       "      <th>2</th>\n",
       "      <td>branil</td>\n",
       "      <td>bcht004a</td>\n",
       "      <td>1</td>\n",
       "      <td>12.3</td>\n",
       "      <td>metal</td>\n",
       "    </tr>\n",
       "    <tr>\n",
       "      <th>3</th>\n",
       "      <td>branil</td>\n",
       "      <td>bcho108</td>\n",
       "      <td>1</td>\n",
       "      <td>22.09</td>\n",
       "      <td>metal</td>\n",
       "    </tr>\n",
       "    <tr>\n",
       "      <th>4</th>\n",
       "      <td>branil</td>\n",
       "      <td>bchv101rv</td>\n",
       "      <td>1</td>\n",
       "      <td>53.15</td>\n",
       "      <td>metal</td>\n",
       "    </tr>\n",
       "    <tr>\n",
       "      <th>...</th>\n",
       "      <td>...</td>\n",
       "      <td>...</td>\n",
       "      <td>...</td>\n",
       "      <td>...</td>\n",
       "      <td>...</td>\n",
       "    </tr>\n",
       "    <tr>\n",
       "      <th>137384</th>\n",
       "      <td>3 rho</td>\n",
       "      <td>7735</td>\n",
       "      <td>3</td>\n",
       "      <td>155.2132</td>\n",
       "      <td>sueyasu</td>\n",
       "    </tr>\n",
       "    <tr>\n",
       "      <th>137385</th>\n",
       "      <td>3 rho</td>\n",
       "      <td>7737</td>\n",
       "      <td>5</td>\n",
       "      <td>146.234</td>\n",
       "      <td>sueyasu</td>\n",
       "    </tr>\n",
       "    <tr>\n",
       "      <th>137386</th>\n",
       "      <td>3 rho</td>\n",
       "      <td>7744</td>\n",
       "      <td>2</td>\n",
       "      <td>153.9712</td>\n",
       "      <td>sueyasu</td>\n",
       "    </tr>\n",
       "    <tr>\n",
       "      <th>137387</th>\n",
       "      <td>3 rho</td>\n",
       "      <td>7748</td>\n",
       "      <td>1</td>\n",
       "      <td>188.93120000000002</td>\n",
       "      <td>sueyasu</td>\n",
       "    </tr>\n",
       "    <tr>\n",
       "      <th>137388</th>\n",
       "      <td>3 rho</td>\n",
       "      <td>7770</td>\n",
       "      <td>1</td>\n",
       "      <td>150.7788</td>\n",
       "      <td>sueyasu</td>\n",
       "    </tr>\n",
       "  </tbody>\n",
       "</table>\n",
       "<p>137389 rows × 5 columns</p>\n",
       "</div>"
      ],
      "text/plain": [
       "       Manufacturer Partnumber Quantity               Price supplier\n",
       "0           frisart      40004        1               27.34    metal\n",
       "1            sanfil       5045        1               52.58    metal\n",
       "2            branil   bcht004a        1                12.3    metal\n",
       "3            branil    bcho108        1               22.09    metal\n",
       "4            branil  bchv101rv        1               53.15    metal\n",
       "...             ...        ...      ...                 ...      ...\n",
       "137384        3 rho       7735        3            155.2132  sueyasu\n",
       "137385        3 rho       7737        5             146.234  sueyasu\n",
       "137386        3 rho       7744        2            153.9712  sueyasu\n",
       "137387        3 rho       7748        1  188.93120000000002  sueyasu\n",
       "137388        3 rho       7770        1            150.7788  sueyasu\n",
       "\n",
       "[137389 rows x 5 columns]"
      ]
     },
     "execution_count": 5,
     "metadata": {},
     "output_type": "execute_result"
    }
   ],
   "source": [
    "# Cleaning the two string cols:\n",
    "string_cleaner(df,'Manufacturer')\n",
    "string_cleaner(df,'Partnumber')"
   ]
  },
  {
   "cell_type": "markdown",
   "id": "17380839",
   "metadata": {},
   "source": [
    "### Transforming the price col:"
   ]
  },
  {
   "cell_type": "code",
   "execution_count": 6,
   "id": "f0a3601b",
   "metadata": {},
   "outputs": [],
   "source": [
    "df['Price'] = df['Price'].astype(str)\n",
    "df['Price'] = df['Price'].apply(lambda x: x.replace(',','.'))\n",
    "df['Price'] = pd.to_numeric(df['Price'],errors='coerce').round(2)"
   ]
  },
  {
   "cell_type": "markdown",
   "id": "bf4800f7",
   "metadata": {},
   "source": [
    "### Dics to alter the quantity col:"
   ]
  },
  {
   "cell_type": "code",
   "execution_count": 7,
   "id": "921322e4",
   "metadata": {},
   "outputs": [],
   "source": [
    "compel = {\"Indisponível\" : '0',\n",
    "'A': '3',\n",
    "'B' : '15',\n",
    " 'C': '20'}"
   ]
  },
  {
   "cell_type": "code",
   "execution_count": 8,
   "id": "0ff6c0a4",
   "metadata": {},
   "outputs": [],
   "source": [
    "real = {'A' : '4',\n",
    "'B' : '11'}"
   ]
  },
  {
   "cell_type": "code",
   "execution_count": 9,
   "id": "f40d9dca",
   "metadata": {
    "scrolled": true
   },
   "outputs": [],
   "source": [
    "# Changing compel\n",
    "df[df.supplier == 'compel'] = df[df.supplier == 'compel'].replace(compel, regex=True)"
   ]
  },
  {
   "cell_type": "code",
   "execution_count": 10,
   "id": "ff11a391",
   "metadata": {},
   "outputs": [],
   "source": [
    "# Changing real\n",
    "df[df.supplier == 'real'] = df[df.supplier == 'real'].replace(compel, regex=True)"
   ]
  },
  {
   "cell_type": "markdown",
   "id": "efaf3ce7",
   "metadata": {},
   "source": [
    "### Modifying the Quantity col:"
   ]
  },
  {
   "cell_type": "code",
   "execution_count": 11,
   "id": "3f8cf45c",
   "metadata": {
    "scrolled": true
   },
   "outputs": [],
   "source": [
    "# Replace '>' and white spaces\n",
    "df.Quantity = df.Quantity.str.replace('>', '')\n",
    "df.Quantity = df.Quantity.str.strip()"
   ]
  },
  {
   "cell_type": "code",
   "execution_count": 12,
   "id": "62424990",
   "metadata": {},
   "outputs": [],
   "source": [
    "#transforming to numeric\n",
    "df.Quantity =pd.to_numeric(df['Quantity'],errors='coerce')"
   ]
  },
  {
   "cell_type": "code",
   "execution_count": 13,
   "id": "f22ffd79",
   "metadata": {},
   "outputs": [],
   "source": [
    "# Creating the key col:\n",
    "df['key'] = df.Manufacturer+df.Partnumber"
   ]
  },
  {
   "cell_type": "code",
   "execution_count": 14,
   "id": "2774c41b",
   "metadata": {},
   "outputs": [],
   "source": [
    "#Creating the pointer col:\n",
    "df['pointer'] = df.supplier+df.Manufacturer+df.Partnumber"
   ]
  },
  {
   "cell_type": "code",
   "execution_count": 15,
   "id": "0c372cd9",
   "metadata": {},
   "outputs": [
    {
     "name": "stdout",
     "output_type": "stream",
     "text": [
      "<class 'pandas.core.frame.DataFrame'>\n",
      "Int64Index: 137389 entries, 0 to 137388\n",
      "Data columns (total 7 columns):\n",
      " #   Column        Non-Null Count   Dtype  \n",
      "---  ------        --------------   -----  \n",
      " 0   Manufacturer  137256 non-null  object \n",
      " 1   Partnumber    137320 non-null  object \n",
      " 2   Quantity      136526 non-null  float64\n",
      " 3   Price         137192 non-null  float64\n",
      " 4   supplier      137389 non-null  object \n",
      " 5   key           137217 non-null  object \n",
      " 6   pointer       137217 non-null  object \n",
      "dtypes: float64(2), object(5)\n",
      "memory usage: 8.4+ MB\n"
     ]
    }
   ],
   "source": [
    "# Size of the first etl dataframe\n",
    "df.info()"
   ]
  },
  {
   "cell_type": "code",
   "execution_count": 16,
   "id": "8e00c28d",
   "metadata": {},
   "outputs": [],
   "source": [
    "# Partnumber as string\n",
    "df.Partnumber = df.Partnumber.astype(str)"
   ]
  },
  {
   "cell_type": "code",
   "execution_count": 17,
   "id": "bc590914",
   "metadata": {
    "scrolled": true
   },
   "outputs": [
    {
     "name": "stderr",
     "output_type": "stream",
     "text": [
      "C:\\Users\\eppmi\\AppData\\Local\\Temp/ipykernel_7548/1128347612.py:2: FutureWarning: The default value of regex will change from True to False in a future version. In addition, single character regular expressions will*not* be treated as literal strings when regex=True.\n",
      "  df.Partnumber = df.Partnumber.str.replace(\".\",\"\")\n"
     ]
    }
   ],
   "source": [
    "# Removing the dots in Partnumber\n",
    "df.Partnumber = df.Partnumber.str.replace(\".\",\"\")"
   ]
  },
  {
   "cell_type": "code",
   "execution_count": 18,
   "id": "041ab0f2",
   "metadata": {},
   "outputs": [],
   "source": [
    "#Removing white space in Partnumber\n",
    "df.Partnumber = df.Partnumber.str.strip()\n",
    "df.Partnumber = df.Partnumber.str.replace(\" \",\"\")"
   ]
  },
  {
   "cell_type": "code",
   "execution_count": 19,
   "id": "17b2ba99",
   "metadata": {},
   "outputs": [],
   "source": [
    "# Manufacturer as string\n",
    "df.Manufacturer = df.Manufacturer.astype(str)"
   ]
  },
  {
   "cell_type": "code",
   "execution_count": 20,
   "id": "20d8c8e7",
   "metadata": {
    "scrolled": true
   },
   "outputs": [
    {
     "name": "stderr",
     "output_type": "stream",
     "text": [
      "C:\\Users\\eppmi\\AppData\\Local\\Temp/ipykernel_7548/3962159109.py:2: FutureWarning: The default value of regex will change from True to False in a future version. In addition, single character regular expressions will*not* be treated as literal strings when regex=True.\n",
      "  df.Manufacturer = df.Manufacturer.str.replace(\".\",\"\")\n"
     ]
    }
   ],
   "source": [
    "# Removing the dots in Partnumber\n",
    "df.Manufacturer = df.Manufacturer.str.replace(\".\",\"\")"
   ]
  },
  {
   "cell_type": "code",
   "execution_count": 21,
   "id": "eda248b1",
   "metadata": {},
   "outputs": [],
   "source": [
    "#Removing white space in Partnumber\n",
    "df.Manufacturer = df.Manufacturer.str.strip()\n",
    "df.Manufacturer = df.Manufacturer.str.replace(\" \",\"\")"
   ]
  },
  {
   "cell_type": "code",
   "execution_count": 22,
   "id": "c49a8227",
   "metadata": {},
   "outputs": [],
   "source": [
    "# Fill Nans with 0\n",
    "df = df.replace(\"\", 0)\n",
    "df = df.replace(\"nan\",0)\n",
    "df = df.fillna(0)"
   ]
  },
  {
   "cell_type": "code",
   "execution_count": 23,
   "id": "1ab2bbeb",
   "metadata": {
    "scrolled": true
   },
   "outputs": [],
   "source": [
    "# Removing empty Manufactures\n",
    "df = df[df.Manufacturer != 0]"
   ]
  },
  {
   "cell_type": "code",
   "execution_count": 24,
   "id": "542eb3e8",
   "metadata": {},
   "outputs": [],
   "source": [
    "df.to_csv('../data/etl/first_etl.csv')"
   ]
  },
  {
   "cell_type": "code",
   "execution_count": 25,
   "id": "c381cf14",
   "metadata": {},
   "outputs": [
    {
     "name": "stderr",
     "output_type": "stream",
     "text": [
      "C:\\Users\\eppmi\\AppData\\Local\\Temp/ipykernel_7548/4118386849.py:2: FutureWarning: The pandas.datetime class is deprecated and will be removed from pandas in a future version. Import from datetime module instead.\n",
      "  df.to_csv('../data/text_output/first_etl{}.txt'.format(pd.datetime.now().strftime(\"%Y-%m-%d %H-%M-%S\")))\n"
     ]
    }
   ],
   "source": [
    "#Save with timestamp\n",
    "df.to_csv('../data/text_output/first_etl{}.txt'.format(pd.datetime.now().strftime(\"%Y-%m-%d %H-%M-%S\")))"
   ]
  },
  {
   "cell_type": "markdown",
   "id": "9d0d41c4",
   "metadata": {},
   "source": [
    "## Second ETL (for each step i show the size of the modifield dataframe)"
   ]
  },
  {
   "cell_type": "code",
   "execution_count": 26,
   "id": "6ee239bc",
   "metadata": {},
   "outputs": [],
   "source": [
    "#parts having a quantity equal to 0\n",
    "\n",
    "df = df[df['Quantity'] !=0]"
   ]
  },
  {
   "cell_type": "code",
   "execution_count": 27,
   "id": "07fcb5fb",
   "metadata": {},
   "outputs": [
    {
     "name": "stdout",
     "output_type": "stream",
     "text": [
      "<class 'pandas.core.frame.DataFrame'>\n",
      "Int64Index: 118212 entries, 0 to 137388\n",
      "Data columns (total 7 columns):\n",
      " #   Column        Non-Null Count   Dtype  \n",
      "---  ------        --------------   -----  \n",
      " 0   Manufacturer  118212 non-null  object \n",
      " 1   Partnumber    118212 non-null  object \n",
      " 2   Quantity      118212 non-null  float64\n",
      " 3   Price         118212 non-null  float64\n",
      " 4   supplier      118212 non-null  object \n",
      " 5   key           118212 non-null  object \n",
      " 6   pointer       118212 non-null  object \n",
      "dtypes: float64(2), object(5)\n",
      "memory usage: 7.2+ MB\n"
     ]
    }
   ],
   "source": [
    "df.info()"
   ]
  },
  {
   "cell_type": "code",
   "execution_count": 28,
   "id": "569fde78",
   "metadata": {},
   "outputs": [
    {
     "data": {
      "text/plain": [
       "metal      31276\n",
       "rufato     18201\n",
       "carbwel    15856\n",
       "real       15113\n",
       "lucios     14054\n",
       "medauto     7494\n",
       "compel      6882\n",
       "sueyasu     5197\n",
       "ima         1641\n",
       "mte         1309\n",
       "jahu        1189\n",
       "Name: supplier, dtype: int64"
      ]
     },
     "execution_count": 28,
     "metadata": {},
     "output_type": "execute_result"
    }
   ],
   "source": [
    "df.supplier.value_counts()"
   ]
  },
  {
   "cell_type": "code",
   "execution_count": 29,
   "id": "d702c2ee",
   "metadata": {},
   "outputs": [],
   "source": [
    "#parts having the quantity blank\n",
    "\n",
    "df = df[df['Quantity'].isna() == False]"
   ]
  },
  {
   "cell_type": "code",
   "execution_count": 30,
   "id": "4ead3469",
   "metadata": {},
   "outputs": [
    {
     "name": "stdout",
     "output_type": "stream",
     "text": [
      "<class 'pandas.core.frame.DataFrame'>\n",
      "Int64Index: 118212 entries, 0 to 137388\n",
      "Data columns (total 7 columns):\n",
      " #   Column        Non-Null Count   Dtype  \n",
      "---  ------        --------------   -----  \n",
      " 0   Manufacturer  118212 non-null  object \n",
      " 1   Partnumber    118212 non-null  object \n",
      " 2   Quantity      118212 non-null  float64\n",
      " 3   Price         118212 non-null  float64\n",
      " 4   supplier      118212 non-null  object \n",
      " 5   key           118212 non-null  object \n",
      " 6   pointer       118212 non-null  object \n",
      "dtypes: float64(2), object(5)\n",
      "memory usage: 7.2+ MB\n"
     ]
    }
   ],
   "source": [
    "df.info()"
   ]
  },
  {
   "cell_type": "code",
   "execution_count": 31,
   "id": "d06a3736",
   "metadata": {},
   "outputs": [
    {
     "data": {
      "text/plain": [
       "metal      31276\n",
       "rufato     18201\n",
       "carbwel    15856\n",
       "real       15113\n",
       "lucios     14054\n",
       "medauto     7494\n",
       "compel      6882\n",
       "sueyasu     5197\n",
       "ima         1641\n",
       "mte         1309\n",
       "jahu        1189\n",
       "Name: supplier, dtype: int64"
      ]
     },
     "execution_count": 31,
     "metadata": {},
     "output_type": "execute_result"
    }
   ],
   "source": [
    "df.supplier.value_counts()"
   ]
  },
  {
   "cell_type": "code",
   "execution_count": 32,
   "id": "44c81e2f",
   "metadata": {},
   "outputs": [],
   "source": [
    "#parts having a negative quantity\n",
    "\n",
    "df = df[df['Quantity'] > 0]"
   ]
  },
  {
   "cell_type": "code",
   "execution_count": 33,
   "id": "728dc97d",
   "metadata": {},
   "outputs": [
    {
     "name": "stdout",
     "output_type": "stream",
     "text": [
      "<class 'pandas.core.frame.DataFrame'>\n",
      "Int64Index: 118212 entries, 0 to 137388\n",
      "Data columns (total 7 columns):\n",
      " #   Column        Non-Null Count   Dtype  \n",
      "---  ------        --------------   -----  \n",
      " 0   Manufacturer  118212 non-null  object \n",
      " 1   Partnumber    118212 non-null  object \n",
      " 2   Quantity      118212 non-null  float64\n",
      " 3   Price         118212 non-null  float64\n",
      " 4   supplier      118212 non-null  object \n",
      " 5   key           118212 non-null  object \n",
      " 6   pointer       118212 non-null  object \n",
      "dtypes: float64(2), object(5)\n",
      "memory usage: 7.2+ MB\n"
     ]
    }
   ],
   "source": [
    "df.info()"
   ]
  },
  {
   "cell_type": "code",
   "execution_count": 34,
   "id": "3cd69e14",
   "metadata": {},
   "outputs": [],
   "source": [
    "#parts having a price equal to 0\n",
    "\n",
    "df = df[df['Price'] != 0.]"
   ]
  },
  {
   "cell_type": "code",
   "execution_count": 35,
   "id": "5c7e9568",
   "metadata": {
    "scrolled": true
   },
   "outputs": [
    {
     "name": "stdout",
     "output_type": "stream",
     "text": [
      "<class 'pandas.core.frame.DataFrame'>\n",
      "Int64Index: 117382 entries, 0 to 137388\n",
      "Data columns (total 7 columns):\n",
      " #   Column        Non-Null Count   Dtype  \n",
      "---  ------        --------------   -----  \n",
      " 0   Manufacturer  117382 non-null  object \n",
      " 1   Partnumber    117382 non-null  object \n",
      " 2   Quantity      117382 non-null  float64\n",
      " 3   Price         117382 non-null  float64\n",
      " 4   supplier      117382 non-null  object \n",
      " 5   key           117382 non-null  object \n",
      " 6   pointer       117382 non-null  object \n",
      "dtypes: float64(2), object(5)\n",
      "memory usage: 7.2+ MB\n"
     ]
    }
   ],
   "source": [
    "df.info()"
   ]
  },
  {
   "cell_type": "code",
   "execution_count": 36,
   "id": "67bd7d11",
   "metadata": {},
   "outputs": [],
   "source": [
    "#parts having the price blank\n",
    "df = df[df['Price'].isna() == False]"
   ]
  },
  {
   "cell_type": "code",
   "execution_count": 37,
   "id": "f5b7d675",
   "metadata": {},
   "outputs": [
    {
     "name": "stdout",
     "output_type": "stream",
     "text": [
      "<class 'pandas.core.frame.DataFrame'>\n",
      "Int64Index: 117382 entries, 0 to 137388\n",
      "Data columns (total 7 columns):\n",
      " #   Column        Non-Null Count   Dtype  \n",
      "---  ------        --------------   -----  \n",
      " 0   Manufacturer  117382 non-null  object \n",
      " 1   Partnumber    117382 non-null  object \n",
      " 2   Quantity      117382 non-null  float64\n",
      " 3   Price         117382 non-null  float64\n",
      " 4   supplier      117382 non-null  object \n",
      " 5   key           117382 non-null  object \n",
      " 6   pointer       117382 non-null  object \n",
      "dtypes: float64(2), object(5)\n",
      "memory usage: 7.2+ MB\n"
     ]
    }
   ],
   "source": [
    "df.info()"
   ]
  },
  {
   "cell_type": "code",
   "execution_count": 38,
   "id": "15d08b7e",
   "metadata": {},
   "outputs": [],
   "source": [
    "#parts having the manufacturer blank\n",
    "df = df[df['Manufacturer'].isna() == False]"
   ]
  },
  {
   "cell_type": "code",
   "execution_count": 39,
   "id": "b71c6238",
   "metadata": {},
   "outputs": [
    {
     "name": "stdout",
     "output_type": "stream",
     "text": [
      "<class 'pandas.core.frame.DataFrame'>\n",
      "Int64Index: 117382 entries, 0 to 137388\n",
      "Data columns (total 7 columns):\n",
      " #   Column        Non-Null Count   Dtype  \n",
      "---  ------        --------------   -----  \n",
      " 0   Manufacturer  117382 non-null  object \n",
      " 1   Partnumber    117382 non-null  object \n",
      " 2   Quantity      117382 non-null  float64\n",
      " 3   Price         117382 non-null  float64\n",
      " 4   supplier      117382 non-null  object \n",
      " 5   key           117382 non-null  object \n",
      " 6   pointer       117382 non-null  object \n",
      "dtypes: float64(2), object(5)\n",
      "memory usage: 7.2+ MB\n"
     ]
    }
   ],
   "source": [
    "df.info()"
   ]
  },
  {
   "cell_type": "code",
   "execution_count": 40,
   "id": "2c6b8086",
   "metadata": {},
   "outputs": [],
   "source": [
    "# parts have the partnumber blank\n",
    "df = df[df['Partnumber'].isna() == False]"
   ]
  },
  {
   "cell_type": "code",
   "execution_count": 41,
   "id": "f90243ab",
   "metadata": {},
   "outputs": [
    {
     "name": "stdout",
     "output_type": "stream",
     "text": [
      "<class 'pandas.core.frame.DataFrame'>\n",
      "Int64Index: 117382 entries, 0 to 137388\n",
      "Data columns (total 7 columns):\n",
      " #   Column        Non-Null Count   Dtype  \n",
      "---  ------        --------------   -----  \n",
      " 0   Manufacturer  117382 non-null  object \n",
      " 1   Partnumber    117382 non-null  object \n",
      " 2   Quantity      117382 non-null  float64\n",
      " 3   Price         117382 non-null  float64\n",
      " 4   supplier      117382 non-null  object \n",
      " 5   key           117382 non-null  object \n",
      " 6   pointer       117382 non-null  object \n",
      "dtypes: float64(2), object(5)\n",
      "memory usage: 7.2+ MB\n"
     ]
    }
   ],
   "source": [
    "df.info()"
   ]
  },
  {
   "cell_type": "code",
   "execution_count": 42,
   "id": "8ca008a5",
   "metadata": {},
   "outputs": [],
   "source": [
    "# Read the synonyms data\n",
    "syn = pd.read_excel(\"../data/synonyms/manufacturers_synonyms.xlsx\")"
   ]
  },
  {
   "cell_type": "code",
   "execution_count": 43,
   "id": "b90e7406",
   "metadata": {},
   "outputs": [],
   "source": [
    "# for each entrie replace the values with the syn dataframe:\n",
    "for n,i in enumerate(syn.name_to_be_replaced):\n",
    "    df = df.replace(i,syn.iloc[n,1])"
   ]
  },
  {
   "cell_type": "code",
   "execution_count": null,
   "id": "8bb1abc3",
   "metadata": {},
   "outputs": [],
   "source": []
  },
  {
   "cell_type": "code",
   "execution_count": 44,
   "id": "41597491",
   "metadata": {},
   "outputs": [],
   "source": [
    "df.to_csv('../data/etl/second_etl.csv')"
   ]
  },
  {
   "cell_type": "code",
   "execution_count": 45,
   "id": "5534ba8d",
   "metadata": {
    "scrolled": true
   },
   "outputs": [
    {
     "name": "stderr",
     "output_type": "stream",
     "text": [
      "C:\\Users\\eppmi\\AppData\\Local\\Temp/ipykernel_7548/93840401.py:2: FutureWarning: The pandas.datetime class is deprecated and will be removed from pandas in a future version. Import from datetime module instead.\n",
      "  df.to_csv('../data/text_output/second_etl{}.txt'.format(pd.datetime.now().strftime(\"%Y-%m-%d %H-%M-%S\")))\n"
     ]
    }
   ],
   "source": [
    "#Save with timestamp\n",
    "df.to_csv('../data/text_output/second_etl{}.txt'.format(pd.datetime.now().strftime(\"%Y-%m-%d %H-%M-%S\")))"
   ]
  },
  {
   "cell_type": "code",
   "execution_count": 46,
   "id": "f668fce0",
   "metadata": {},
   "outputs": [],
   "source": [
    "# save in excel\n",
    "df.to_excel('../data/etl/second_etl.xlsx')"
   ]
  },
  {
   "cell_type": "code",
   "execution_count": null,
   "id": "c5eccc3b",
   "metadata": {},
   "outputs": [],
   "source": []
  }
 ],
 "metadata": {
  "hide_input": false,
  "kernelspec": {
   "display_name": "Python 3 (ipykernel)",
   "language": "python",
   "name": "python3"
  },
  "language_info": {
   "codemirror_mode": {
    "name": "ipython",
    "version": 3
   },
   "file_extension": ".py",
   "mimetype": "text/x-python",
   "name": "python",
   "nbconvert_exporter": "python",
   "pygments_lexer": "ipython3",
   "version": "3.9.7"
  },
  "varInspector": {
   "cols": {
    "lenName": 16,
    "lenType": 16,
    "lenVar": 40
   },
   "kernels_config": {
    "python": {
     "delete_cmd_postfix": "",
     "delete_cmd_prefix": "del ",
     "library": "var_list.py",
     "varRefreshCmd": "print(var_dic_list())"
    },
    "r": {
     "delete_cmd_postfix": ") ",
     "delete_cmd_prefix": "rm(",
     "library": "var_list.r",
     "varRefreshCmd": "cat(var_dic_list()) "
    }
   },
   "types_to_exclude": [
    "module",
    "function",
    "builtin_function_or_method",
    "instance",
    "_Feature"
   ],
   "window_display": false
  }
 },
 "nbformat": 4,
 "nbformat_minor": 5
}
