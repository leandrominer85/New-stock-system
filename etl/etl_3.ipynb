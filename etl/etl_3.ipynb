{
 "cells": [
  {
   "cell_type": "code",
   "execution_count": 1,
   "id": "704c5f1f",
   "metadata": {},
   "outputs": [],
   "source": [
    "#Importing modules\n",
    "import pandas as pd\n",
    "import numpy as np\n",
    "import warnings\n",
    "warnings.filterwarnings(\"ignore\")"
   ]
  },
  {
   "cell_type": "code",
   "execution_count": 2,
   "id": "a574f9df",
   "metadata": {},
   "outputs": [],
   "source": [
    "#Reading the dataframe\n",
    "df = pd.read_csv('..\\\\data\\\\originals\\\\Estoque real 29 11.csv',header=0,\n",
    "            sep = \";|\\|\", \n",
    "            encoding = \"ISO-8859-1\", #This encoding is important to work with most of the files\n",
    "            engine = \"python\")"
   ]
  },
  {
   "cell_type": "code",
   "execution_count": 3,
   "id": "dfa5c603",
   "metadata": {},
   "outputs": [],
   "source": [
    "#Coding the prices\n",
    "real = {'A' : '4',\n",
    "'B' : '11'}\n",
    "\n",
    "# Changing real\n",
    "df = df.replace(real, regex=True)\n",
    "\n"
   ]
  },
  {
   "cell_type": "code",
   "execution_count": 4,
   "id": "6d7128de",
   "metadata": {},
   "outputs": [],
   "source": [
    "#Selecting the collumns and assing to a new df\n",
    "cols= ['QTDE_SPNORTE' ,'PRECO_SPNORTE','QTDE_ABC','PRECO_ABC','QTDE_SPLESTE','PRECO_SPLESTE']\n",
    "df2 = df[cols]"
   ]
  },
  {
   "cell_type": "code",
   "execution_count": 5,
   "id": "5555cd40",
   "metadata": {},
   "outputs": [],
   "source": [
    "#coding as strings\n",
    "df2[cols] = df2[cols].astype(str)"
   ]
  },
  {
   "cell_type": "code",
   "execution_count": 6,
   "id": "c3752440",
   "metadata": {},
   "outputs": [],
   "source": [
    "# Replacing the commas\n",
    "for col in cols:\n",
    "    df2[col] = df2[col].apply(lambda x: x.replace(',','.'))"
   ]
  },
  {
   "cell_type": "code",
   "execution_count": 7,
   "id": "b8848049",
   "metadata": {},
   "outputs": [],
   "source": [
    "#Transforming to numeric\n",
    "df2[cols] = df2[cols].apply(pd.to_numeric, errors='coerce')"
   ]
  },
  {
   "cell_type": "code",
   "execution_count": 8,
   "id": "97cf1e5e",
   "metadata": {},
   "outputs": [],
   "source": [
    "#replace all zeros with NaN values\n",
    "prices= ['PRECO_SPNORTE','PRECO_ABC','PRECO_SPLESTE']\n",
    "df2[prices] = df2[prices].replace(0.0, np.nan)"
   ]
  },
  {
   "cell_type": "code",
   "execution_count": 9,
   "id": "21f75e71",
   "metadata": {},
   "outputs": [],
   "source": [
    "#Get a list with the minimum values\n",
    "minimun = df2[['PRECO_SPNORTE','PRECO_ABC','PRECO_SPLESTE']].min(axis=1)"
   ]
  },
  {
   "cell_type": "code",
   "execution_count": 10,
   "id": "66b191d1",
   "metadata": {},
   "outputs": [],
   "source": [
    "#Start with empty lists of price and quantities\n",
    "prices = []\n",
    "quantities = []\n",
    "\n",
    "\n",
    "#Iterate trought the minimun list and for each value select the corresponding quantity value\n",
    "\n",
    "for i in enumerate(minimun):\n",
    "    \n",
    "    \n",
    "    # If all columns have the minimum value:\n",
    "    if (df2.iloc[i[0],1] == i[1]) & (df2.iloc[i[0],3] == i[1]) & (df2.iloc[i[0],5] == i[1]):\n",
    "        quantity = np.nansum([df2.iloc[i[0],0]] + [df2.iloc[i[0],2]] + [df2.iloc[i[0],4]])\n",
    "        price = i[1]\n",
    "        prices.append(price)\n",
    "        quantities.append(quantity)\n",
    "    \n",
    "    #If the first two columns have the minimum value\n",
    "    elif (df2.iloc[i[0],1] == i[1]) & (df2.iloc[i[0],3] == i[1]) & (df2.iloc[i[0],5] != i[1]):\n",
    "        quantity = np.nansum([df2.iloc[i[0],0]] + [df2.iloc[i[0],2]])\n",
    "        price = i[1]\n",
    "        prices.append(price)\n",
    "        quantities.append(quantity)\n",
    "\n",
    "        \n",
    "    #If the middle col dosen´t have the minimum value:\n",
    "    elif (df2.iloc[i[0],1] == i[1]) & (df2.iloc[i[0],3] != i[1]) & (df2.iloc[i[0],5] == i[1]):\n",
    "        quantity = np.nansum([df2.iloc[i[0],0]]  + [df2.iloc[i[0],4]])\n",
    "        price = i[1]\n",
    "        prices.append(price)\n",
    "        quantities.append(quantity)\n",
    "\n",
    "    #If the first col dosen´t have the minimum value:\n",
    "    elif (df2.iloc[i[0],1] != i[1]) & (df2.iloc[i[0],3] == i[1]) & (df2.iloc[i[0],5] == i[1]):\n",
    "        quantity = np.nansum([df2.iloc[i[0],2]] + [df2.iloc[i[0],4]])\n",
    "        price = i[1]\n",
    "        prices.append(price)\n",
    "        quantities.append(quantity)\n",
    "    \n",
    "    #If there is just one collum with the minimum:\n",
    "    elif (df2.iloc[i[0],1] == i[1]) & (df2.iloc[i[0],3] != i[1]) & (df2.iloc[i[0],5] != i[1]):\n",
    "        quantity = np.nansum([df2.iloc[i[0],0]])\n",
    "        price = i[1]\n",
    "        prices.append(price)\n",
    "        quantities.append(quantity)  \n",
    "        \n",
    "    elif (df2.iloc[i[0],1] != i[1]) & (df2.iloc[i[0],3] == i[1]) & (df2.iloc[i[0],5] != i[1]):\n",
    "        quantity = np.nansum([df2.iloc[i[0],2]])\n",
    "        price = i[1]\n",
    "        prices.append(price)\n",
    "        quantities.append(quantity)  \n",
    "        \n",
    "    elif (df2.iloc[i[0],1] != i[1]) & (df2.iloc[i[0],3] != i[1]) & (df2.iloc[i[0],5] == i[1]):\n",
    "        quantity = np.nansum([df2.iloc[i[0],4]])\n",
    "        price = i[1]\n",
    "        prices.append(price)\n",
    "        quantities.append(quantity)\n",
    "        \n",
    "    else:\n",
    "        quantity = 0\n",
    "        price = i[1]\n",
    "        prices.append(price)\n",
    "        quantities.append(quantity)\n",
    "        \n"
   ]
  },
  {
   "cell_type": "code",
   "execution_count": 11,
   "id": "78749fe3",
   "metadata": {},
   "outputs": [],
   "source": [
    "df['sumed_quantity_for_best_price_only'] = quantities\n",
    "df['best_price_with_stock'] = prices"
   ]
  },
  {
   "cell_type": "code",
   "execution_count": 12,
   "id": "27bb628a",
   "metadata": {},
   "outputs": [],
   "source": [
    "#df.to_csv('../data/etl/third_etl.csv')"
   ]
  },
  {
   "cell_type": "code",
   "execution_count": 13,
   "id": "0bf7b1fc",
   "metadata": {},
   "outputs": [],
   "source": [
    "#Save with timestamp\n",
    "#df.to_csv('../data/text_output/third_etl_{}.txt'.format(pd.datetime.now().strftime(\"%Y-%m-%d %H-%M-%S\")))"
   ]
  },
  {
   "cell_type": "code",
   "execution_count": null,
   "id": "1bb316f5",
   "metadata": {},
   "outputs": [],
   "source": []
  }
 ],
 "metadata": {
  "hide_input": false,
  "kernelspec": {
   "display_name": "Python 3 (ipykernel)",
   "language": "python",
   "name": "python3"
  },
  "language_info": {
   "codemirror_mode": {
    "name": "ipython",
    "version": 3
   },
   "file_extension": ".py",
   "mimetype": "text/x-python",
   "name": "python",
   "nbconvert_exporter": "python",
   "pygments_lexer": "ipython3",
   "version": "3.9.7"
  },
  "varInspector": {
   "cols": {
    "lenName": 16,
    "lenType": 16,
    "lenVar": 40
   },
   "kernels_config": {
    "python": {
     "delete_cmd_postfix": "",
     "delete_cmd_prefix": "del ",
     "library": "var_list.py",
     "varRefreshCmd": "print(var_dic_list())"
    },
    "r": {
     "delete_cmd_postfix": ") ",
     "delete_cmd_prefix": "rm(",
     "library": "var_list.r",
     "varRefreshCmd": "cat(var_dic_list()) "
    }
   },
   "types_to_exclude": [
    "module",
    "function",
    "builtin_function_or_method",
    "instance",
    "_Feature"
   ],
   "window_display": false
  }
 },
 "nbformat": 4,
 "nbformat_minor": 5
}
