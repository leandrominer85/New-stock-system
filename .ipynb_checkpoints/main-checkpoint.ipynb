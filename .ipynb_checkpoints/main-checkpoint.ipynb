{
 "cells": [
  {
   "cell_type": "code",
   "execution_count": 1,
   "id": "5afa1474",
   "metadata": {},
   "outputs": [],
   "source": [
    "import pandas as pd\n",
    "import glob\n",
    "from cleaning_functions import *"
   ]
  },
  {
   "cell_type": "code",
   "execution_count": 2,
   "id": "e1cfdf36",
   "metadata": {},
   "outputs": [],
   "source": [
    "# Get a list of files to read from the path\n",
    "path = r'dados/originais/*'\n",
    "files = glob.glob(path)"
   ]
  },
  {
   "cell_type": "code",
   "execution_count": 4,
   "id": "69ba7cd5",
   "metadata": {},
   "outputs": [],
   "source": [
    "# This function gets the file path, the supplier_code (a key in the dictionary below)\n",
    "# and the parameters of the dictionary below for each key. It checks the file extension and then uses the \n",
    "# appropriate pandas function\n",
    "\n",
    "\n",
    "def read_file(file, supplier_code, header, special_operation):\n",
    "        #Check if file is xls or xlsx\n",
    "    if \"xlsx\" in file or \"xls\" in file.lower():\n",
    "        df = pd.read_excel(\n",
    "            io = Fr\"{file}\", \n",
    "            header = file_columns[supplier_code][\"header\"], \n",
    "            usecols = file_columns[supplier_code][\"columns\"]\n",
    "            )[file_columns[supplier_code][\"columns\"]] #To maintain parsed columns orders\n",
    "                #if the dataframe require more special operaions like adding blank columns or removing un wanted raws\n",
    "        if file_columns[supplier_code][\"special_operation\"]:\n",
    "            df = file_columns[supplier_code][\"special_operation\"](df)\n",
    "                \n",
    "        df.columns = [\"Manufacturer\", \"Partnumber\", \"Quantity\", \"Price\"]\n",
    "\n",
    "        df[\"supplier\"] = supplier_code\n",
    "\n",
    "        #Check if file is csv or txt\n",
    "    elif \"csv\" in file.lower() or \"txt\" in file.lower():\n",
    "        df = pd.read_csv(\n",
    "            file, \n",
    "            header = file_columns[supplier_code][\"header\"], \n",
    "            usecols = file_columns[supplier_code][\"columns\"],\n",
    "            sep = \";|\\|\", \n",
    "            encoding = \"ISO-8859-1\", #This encoding is important to work with most of the files\n",
    "            engine = \"python\" #This engine to accept regex at sep parameter for csv with variety of delimeters\n",
    "            )[file_columns[supplier_code][\"columns\"]] #To maintain parsed columns orders\n",
    "\n",
    "        if file_columns[supplier_code][\"special_operation\"]:\n",
    "            df = file_columns[supplier_code][\"special_operation\"](df)\n",
    "\n",
    "        df.columns = [\"Manufacturer\", \"Partnumber\", \"Quantity\", \"Price\"]\n",
    "\n",
    "        df[\"supplier\"] = supplier_code\n",
    "\n",
    "    else:\n",
    "        print(\"unkown file formate: \", file)\n",
    "\n",
    "    return df"
   ]
  },
  {
   "cell_type": "code",
   "execution_count": 3,
   "id": "f893e35a",
   "metadata": {},
   "outputs": [],
   "source": [
    "# Dictionary to pass to the read function. For each file it needs the header (where the column name is), the columns \n",
    "# names and if any special operations is needed (the cleaning_functions functions)\n",
    "\n",
    "\n",
    "file_columns = {\n",
    "    \"metal\":    {    \"header\": 0, \n",
    "                    \"columns\": [\"Fabricante\", \"Codigo_fornecedor\", \"quantity\", \"PRECO_LIQUIDO\"],\n",
    "                    \"special_operation\": None\n",
    "                },\n",
    "\n",
    "    \"medauto\":    {    \"header\": 0, \n",
    "                    \"columns\": [\"Fornecedor\", \"NUMERO DA PEÇA\", \"ESTOQUE\", \"PREÇO\"],\n",
    "                    \"special_operation\": None\n",
    "                },\n",
    "    \"lucios\":     {    \"header\": 0, \n",
    "                    \"columns\": [\"Fabricante\", \"Código Lucios\", \"Disponibilidade\", \"Preço\"],\n",
    "                    \"special_operation\": None\n",
    "                },\n",
    "    \"carbwel\":     {    \"header\": 0, \n",
    "                    \"columns\": [\"Fabricante\", \"Código Fabricante\", \"Disponivel\", \"PrcVenda\"],\n",
    "                    \"special_operation\": None\n",
    "                },\n",
    "    \"mte\":     {    \"header\": 0, \n",
    "                    \"columns\": [\"COD MTE\", \"QTD. ESTOQUE\", \"PREÇO\"],\n",
    "                    \"special_operation\": mte_process\n",
    "                },\n",
    "    \"sueyasu\":     {    \"header\": 0, \n",
    "                    \"columns\": [\"NOME DO FABRICANTE\", \"CODIGO DA PEÇA (FABRICANTE)\", \"QUANTIDADE EM ESTOQUE\", \"PREÇO\"],\n",
    "                    \"special_operation\": sueyasu_process\n",
    "                },\n",
    "    \"polipecas\":{    \"header\": 2, \n",
    "                    \"columns\": [\"COD. FORNECEDOR\", \"PREÇO\"],\n",
    "                    \"special_operation\": polipecas_process\n",
    "                },\n",
    "    \"lucios\":{        \"header\": 0, \n",
    "                    \"columns\": [\"Fabricante\", \"Código Fábrica\", \"Disponibilidade\", \"Preço\"],\n",
    "                    \"special_operation\": None\n",
    "                },\n",
    "    \"ima\":{            \"header\": 0, \n",
    "                    \"columns\": [\"Código XML\", \"Estoque\"],\n",
    "                    \"special_operation\": ima_process\n",
    "                },\n",
    "    \"compel\":{        \"header\": 0, \n",
    "                    \"columns\": [\"FABRICANTE\", \"COD FABRICA\", \"DISPONIBILIDADE\", \"PREÇO\"],\n",
    "                    \"special_operation\": compel_process\n",
    "                },\n",
    "    \"rufato\":{        \"header\": None, \n",
    "                    \"columns\": [5, 4, 3, 2],\n",
    "                    \"special_operation\": None\n",
    "                },\n",
    "    \"real\":{        \"header\": 0, \n",
    "                    \"columns\": [\"NOME_FANTASIA\", \"COD_FABRICANTE\", \"QTDE_SPLESTE\", \"PRECO_SPLESTE\"],\n",
    "                    \"special_operation\": None\n",
    "                },\n",
    "    \"jahu\":{        \"header\": 0, \n",
    "                    \"columns\": ['Marca','Cód.Fabricante', 'Preco','Disponivel'],\n",
    "                    \"special_operation\": jahu_process\n",
    "                },\n",
    "}"
   ]
  },
  {
   "cell_type": "code",
   "execution_count": 5,
   "id": "c1bfc714",
   "metadata": {
    "scrolled": true
   },
   "outputs": [
    {
     "name": "stdout",
     "output_type": "stream",
     "text": [
      "dados/originais\\00-Prod_Metal_001.xlsx ==== metal 0\n",
      "dados/originais\\ARQUIVO-RUFATO-29-11-2022-HR12-00.TXT ==== rufato None\n",
      "dados/originais\\Arquivo_Compel-29-11-22.csv ==== compel 0\n",
      "dados/originais\\Estoque Carbwel 20 10 22 Karhub.xls ==== carbwel 0\n",
      "dados/originais\\Estoque IMA CONEXÃO 29.11.2022.xlsx ==== ima 0\n",
      "dados/originais\\Estoque real 29 11.csv ==== real 0\n",
      "dados/originais\\estoque_jahu_20221129.csv ==== jahu 0\n",
      "dados/originais\\medauto_stock_220916.xlsx ==== medauto 0\n",
      "dados/originais\\MTE_ESTOQUE_INTERNET-2.XLSX ==== mte 0\n",
      "dados/originais\\polipecas_stock_220919.xlsx ==== polipecas 2\n",
      "dados/originais\\Relatorio-lucios.xls ==== lucios 0\n",
      "WARNING *** file size (3141173) not 512 + multiple of sector size (512)\n",
      "WARNING *** OLE2 inconsistency: SSCS size is 0 but SSAT size is non-zero\n",
      "dados/originais\\Sueyasu - 27-09-22.xlsx ==== sueyasu 0\n"
     ]
    }
   ],
   "source": [
    "# Starts with a empty list that is populated with every data from the files list using the read_file function\n",
    "\n",
    "all_df = []\n",
    "for file in files:\n",
    "    file_columns_keys = list(file_columns.keys())\n",
    "    for supplier_code in file_columns_keys:\n",
    "        if supplier_code in file.lower():\n",
    "            print(file, \"====\", supplier_code, file_columns[supplier_code][\"header\"])\n",
    "            all_df.append(read_file( #dataframes are added one by one and merged all at once\n",
    "                file, \n",
    "                supplier_code, \n",
    "                header = file_columns[supplier_code][\"header\"], \n",
    "                special_operation = file_columns[supplier_code][\"special_operation\"]))\n",
    "            \n",
    "            \n",
    "#saves the combined dataframe\n",
    "pd.concat(all_df, ignore_index = True).to_csv('combined.csv')\n"
   ]
  },
  {
   "cell_type": "code",
   "execution_count": null,
   "id": "2c205461",
   "metadata": {},
   "outputs": [],
   "source": []
  }
 ],
 "metadata": {
  "hide_input": false,
  "kernelspec": {
   "display_name": "Python 3 (ipykernel)",
   "language": "python",
   "name": "python3"
  },
  "language_info": {
   "codemirror_mode": {
    "name": "ipython",
    "version": 3
   },
   "file_extension": ".py",
   "mimetype": "text/x-python",
   "name": "python",
   "nbconvert_exporter": "python",
   "pygments_lexer": "ipython3",
   "version": "3.9.7"
  },
  "varInspector": {
   "cols": {
    "lenName": 16,
    "lenType": 16,
    "lenVar": 40
   },
   "kernels_config": {
    "python": {
     "delete_cmd_postfix": "",
     "delete_cmd_prefix": "del ",
     "library": "var_list.py",
     "varRefreshCmd": "print(var_dic_list())"
    },
    "r": {
     "delete_cmd_postfix": ") ",
     "delete_cmd_prefix": "rm(",
     "library": "var_list.r",
     "varRefreshCmd": "cat(var_dic_list()) "
    }
   },
   "types_to_exclude": [
    "module",
    "function",
    "builtin_function_or_method",
    "instance",
    "_Feature"
   ],
   "window_display": false
  }
 },
 "nbformat": 4,
 "nbformat_minor": 5
}
