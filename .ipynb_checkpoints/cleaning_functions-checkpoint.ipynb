{
 "cells": [
  {
   "cell_type": "code",
   "execution_count": 3,
   "id": "bf6dabd6",
   "metadata": {},
   "outputs": [],
   "source": [
    "import pandas as pd\n",
    "import numpy as np"
   ]
  },
  {
   "cell_type": "code",
   "execution_count": 2,
   "id": "0b003ea7",
   "metadata": {},
   "outputs": [],
   "source": [
    "# Functions to process the dataframes that need some work:\n",
    "\n",
    "def mte_process(df):\n",
    "        \n",
    "    #Remove first row as it is empty\n",
    "    df.drop(    index=df.index[0], \n",
    "                axis=0, \n",
    "                inplace=True)\n",
    "   \n",
    "    df.rename({'COD MTE' : 'Partnumber', 'PREÇO' : 'Price' ,\n",
    "               'QTD. ESTOQUE':'Quantity'}, axis=1, inplace= True)\n",
    "    \n",
    "    df['Manufacturer'] = 'Mte'\n",
    "    \n",
    "    df= df[[\"Manufacturer\", \"Partnumber\", \"Quantity\", \"Price\"]]\n",
    "    \n",
    "    return df\n",
    "\n",
    "\n",
    "def sueyasu_process(df):\n",
    "    #Remove first row (unwanted data)\n",
    "    df.drop(    index=df.index[0], \n",
    "                axis=0, \n",
    "                inplace=True)\n",
    "    return df\n",
    "\n",
    "\n",
    "def polipecas_process(df): \n",
    "    ###HARD CODED BOSCH \n",
    "    ###WHAT IF THERE IS ZERO IN THE BEGINNING OF PART NUMBER\n",
    "\n",
    "    #Adding manufacturer column and hard coding BOSCH in it\n",
    "    df.insert(    loc=0, \n",
    "                column='new col', \n",
    "                value=['BOSCH' for i in range(df.shape[0])])\n",
    "\n",
    "    #Adding empty quantity column\n",
    "    df.insert(    loc=2, \n",
    "                column='new col2', \n",
    "                value=['' for i in range(df.shape[0])])\n",
    "\n",
    "    \n",
    "\n",
    "    return df\n",
    "\n",
    "\n",
    "def ima_process(df):\n",
    "    \n",
    "    df.rename({'Código XML' : 'Partnumber',\n",
    "               'Estoque':'Quantity'}, axis=1, inplace= True)\n",
    "    \n",
    "    df['Manufacturer'] = 'ima'\n",
    "    df['Price'] = np.nan\n",
    "    df= df[[\"Manufacturer\", \"Partnumber\", \"Quantity\", \"Price\"]]\n",
    "\n",
    "    return df\n",
    "\n",
    "\n",
    "def compel_process(df):\n",
    "    #Remove first row (unwanted data)\n",
    "    df.drop(    index=df.index[:2], \n",
    "                axis=0, \n",
    "                inplace=True)\n",
    "    return df\n",
    "\n",
    "\n",
    "def jahu_process(df):\n",
    "    \n",
    "    \n",
    "    \n",
    "    df.rename({'Marca': 'Manufacturer',\n",
    "               'Cód.Fabricante' : 'Partnumber', 'Preco' : 'Price' ,\n",
    "               'Disponivel':'Quantity'}, axis=1, inplace= True)\n",
    "    \n",
    "    df= df[[\"Manufacturer\", \"Partnumber\", \"Quantity\", \"Price\"]]\n",
    "    \n",
    "    \n",
    "    return df"
   ]
  },
  {
   "cell_type": "code",
   "execution_count": null,
   "id": "aa53fd97",
   "metadata": {},
   "outputs": [],
   "source": []
  }
 ],
 "metadata": {
  "hide_input": false,
  "kernelspec": {
   "display_name": "Python 3 (ipykernel)",
   "language": "python",
   "name": "python3"
  },
  "language_info": {
   "codemirror_mode": {
    "name": "ipython",
    "version": 3
   },
   "file_extension": ".py",
   "mimetype": "text/x-python",
   "name": "python",
   "nbconvert_exporter": "python",
   "pygments_lexer": "ipython3",
   "version": "3.9.7"
  },
  "varInspector": {
   "cols": {
    "lenName": 16,
    "lenType": 16,
    "lenVar": 40
   },
   "kernels_config": {
    "python": {
     "delete_cmd_postfix": "",
     "delete_cmd_prefix": "del ",
     "library": "var_list.py",
     "varRefreshCmd": "print(var_dic_list())"
    },
    "r": {
     "delete_cmd_postfix": ") ",
     "delete_cmd_prefix": "rm(",
     "library": "var_list.r",
     "varRefreshCmd": "cat(var_dic_list()) "
    }
   },
   "types_to_exclude": [
    "module",
    "function",
    "builtin_function_or_method",
    "instance",
    "_Feature"
   ],
   "window_display": false
  }
 },
 "nbformat": 4,
 "nbformat_minor": 5
}
