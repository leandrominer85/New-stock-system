{
 "cells": [
  {
   "cell_type": "code",
   "execution_count": 1,
   "id": "cae6dd8a",
   "metadata": {},
   "outputs": [],
   "source": [
    "import pandas as pd\n",
    "import glob\n",
    "import re"
   ]
  },
  {
   "cell_type": "code",
   "execution_count": 2,
   "id": "e6f7b8ef",
   "metadata": {},
   "outputs": [],
   "source": [
    "pd.options.display.float_format = '{:.1f}'.format"
   ]
  },
  {
   "cell_type": "code",
   "execution_count": 3,
   "id": "5a7e6f86",
   "metadata": {},
   "outputs": [],
   "source": [
    "path = r'E:\\Dropbox\\Pessoal\\Python\\trabalho\\Upwork\\New-stock-system\\data\\originals\\*'\n",
    "files = glob.glob(path)"
   ]
  },
  {
   "cell_type": "markdown",
   "id": "3443530a",
   "metadata": {},
   "source": [
    "## Files Used:"
   ]
  },
  {
   "cell_type": "code",
   "execution_count": 4,
   "id": "e9e35657",
   "metadata": {},
   "outputs": [
    {
     "name": "stdout",
     "output_type": "stream",
     "text": [
      "E:\\Dropbox\\Pessoal\\Python\\trabalho\\Upwork\\New-stock-system\\data\\originals\\00-Prod_Metal_001.xlsx\n",
      "E:\\Dropbox\\Pessoal\\Python\\trabalho\\Upwork\\New-stock-system\\data\\originals\\2022-03-01 - Lista de Preços IMA - 03-2022 - GERAL.XLSX\n",
      "E:\\Dropbox\\Pessoal\\Python\\trabalho\\Upwork\\New-stock-system\\data\\originals\\ARQUIVO-RUFATO-29-11-2022-HR12-00.TXT\n",
      "E:\\Dropbox\\Pessoal\\Python\\trabalho\\Upwork\\New-stock-system\\data\\originals\\Arquivo_Compel-29-11-22.csv\n",
      "E:\\Dropbox\\Pessoal\\Python\\trabalho\\Upwork\\New-stock-system\\data\\originals\\Estoque Carbwel 20 10 22 Karhub.xls\n",
      "E:\\Dropbox\\Pessoal\\Python\\trabalho\\Upwork\\New-stock-system\\data\\originals\\Estoque real 29 11.csv\n",
      "E:\\Dropbox\\Pessoal\\Python\\trabalho\\Upwork\\New-stock-system\\data\\originals\\estoque_jahu_20221129.csv\n",
      "E:\\Dropbox\\Pessoal\\Python\\trabalho\\Upwork\\New-stock-system\\data\\originals\\medauto_stock_220916.xlsx\n",
      "E:\\Dropbox\\Pessoal\\Python\\trabalho\\Upwork\\New-stock-system\\data\\originals\\MTE_ESTOQUE_INTERNET-2.XLSX\n",
      "E:\\Dropbox\\Pessoal\\Python\\trabalho\\Upwork\\New-stock-system\\data\\originals\\NISSI - LISTA DE PREÇO KARHUB.xls\n",
      "E:\\Dropbox\\Pessoal\\Python\\trabalho\\Upwork\\New-stock-system\\data\\originals\\paccini_stock_220909.xlsx\n",
      "E:\\Dropbox\\Pessoal\\Python\\trabalho\\Upwork\\New-stock-system\\data\\originals\\polipecas_stock_220919.xlsx\n",
      "E:\\Dropbox\\Pessoal\\Python\\trabalho\\Upwork\\New-stock-system\\data\\originals\\Relatorio-lucios.xls\n",
      "E:\\Dropbox\\Pessoal\\Python\\trabalho\\Upwork\\New-stock-system\\data\\originals\\Sueyasu - 27-09-22.xlsx\n"
     ]
    }
   ],
   "source": [
    "for f in files:\n",
    "    print(f)"
   ]
  },
  {
   "cell_type": "code",
   "execution_count": 5,
   "id": "d84b646e",
   "metadata": {},
   "outputs": [
    {
     "name": "stderr",
     "output_type": "stream",
     "text": [
      "C:\\ProgramData\\Anaconda3\\lib\\site-packages\\IPython\\core\\interactiveshell.py:3172: DtypeWarning: Columns (3,4) have mixed types.Specify dtype option on import or set low_memory=False.\n",
      "  has_raised = await self.run_ast_nodes(code_ast.body, cell_name,\n"
     ]
    }
   ],
   "source": [
    "df = pd.read_csv('../data/merged_database/combined.csv' , index_col=0)"
   ]
  },
  {
   "cell_type": "code",
   "execution_count": 6,
   "id": "f9a7ec31",
   "metadata": {},
   "outputs": [],
   "source": [
    "df['Price'] = df['Price'].astype(str)"
   ]
  },
  {
   "cell_type": "code",
   "execution_count": 7,
   "id": "45389eda",
   "metadata": {},
   "outputs": [],
   "source": [
    "df['Price'] = df['Price'].apply(lambda x: x.replace(',','.'))"
   ]
  },
  {
   "cell_type": "code",
   "execution_count": 8,
   "id": "3a9d3a6c",
   "metadata": {
    "scrolled": true
   },
   "outputs": [],
   "source": [
    "df['Price'] = pd.to_numeric(df['Price'],errors='coerce')"
   ]
  },
  {
   "cell_type": "code",
   "execution_count": 9,
   "id": "ec255bd2",
   "metadata": {},
   "outputs": [],
   "source": [
    "df['Quantity'] = pd.to_numeric(df['Quantity'],errors='coerce')"
   ]
  },
  {
   "cell_type": "markdown",
   "id": "63caf2d3",
   "metadata": {},
   "source": [
    "## Total unique Manufacturers:"
   ]
  },
  {
   "cell_type": "code",
   "execution_count": 10,
   "id": "70bf9750",
   "metadata": {},
   "outputs": [
    {
     "data": {
      "text/plain": [
       "1121"
      ]
     },
     "execution_count": 10,
     "metadata": {},
     "output_type": "execute_result"
    }
   ],
   "source": [
    "df.Manufacturer.nunique()"
   ]
  },
  {
   "cell_type": "markdown",
   "id": "607cc3e2",
   "metadata": {},
   "source": [
    "## Manufacturers by suppliers"
   ]
  },
  {
   "cell_type": "code",
   "execution_count": 11,
   "id": "c0df968e",
   "metadata": {},
   "outputs": [
    {
     "data": {
      "text/plain": [
       "supplier\n",
       "carbwel      15906\n",
       "compel       21346\n",
       "ima           1641\n",
       "jahu          1806\n",
       "lucios       16408\n",
       "medauto       7494\n",
       "metal        31276\n",
       "mte           1309\n",
       "polipecas      863\n",
       "real         15116\n",
       "rufato       18211\n",
       "sueyasu       5880\n",
       "Name: Manufacturer, dtype: int64"
      ]
     },
     "execution_count": 11,
     "metadata": {},
     "output_type": "execute_result"
    }
   ],
   "source": [
    "df.groupby('supplier')['Manufacturer'].count()"
   ]
  },
  {
   "cell_type": "markdown",
   "id": "bf482276",
   "metadata": {},
   "source": [
    "## total unique manufacturers by supplier"
   ]
  },
  {
   "cell_type": "code",
   "execution_count": 12,
   "id": "c1985a44",
   "metadata": {},
   "outputs": [
    {
     "data": {
      "text/plain": [
       "supplier\n",
       "carbwel      287\n",
       "compel        62\n",
       "ima            1\n",
       "jahu           3\n",
       "lucios       122\n",
       "medauto      273\n",
       "metal        349\n",
       "mte            1\n",
       "polipecas      1\n",
       "real          79\n",
       "rufato        78\n",
       "sueyasu       20\n",
       "Name: Manufacturer, dtype: int64"
      ]
     },
     "execution_count": 12,
     "metadata": {},
     "output_type": "execute_result"
    }
   ],
   "source": [
    "df.groupby('supplier')['Manufacturer'].nunique()"
   ]
  },
  {
   "cell_type": "markdown",
   "id": "d686d840",
   "metadata": {},
   "source": [
    "## Unique manufacturer names:"
   ]
  },
  {
   "cell_type": "code",
   "execution_count": 13,
   "id": "5a880d12",
   "metadata": {},
   "outputs": [
    {
     "name": "stderr",
     "output_type": "stream",
     "text": [
      "C:\\Users\\eppmi\\AppData\\Local\\Temp/ipykernel_11340/2636660214.py:3: FutureWarning: The pandas.datetime class is deprecated and will be removed from pandas in a future version. Import from datetime module instead.\n",
      "  pd.DataFrame(df.Manufacturer.unique()).to_csv('../data/text_output/unique_manufacturer_{}.txt'.format(pd.datetime.now().strftime(\"%Y-%m-%d %H-%M-%S\")))\n"
     ]
    }
   ],
   "source": [
    "pd.DataFrame(df.Manufacturer.unique()).to_excel('../data/raw_analysis/unique_manufacturer.xlsx')\n",
    "#Save with timestamp\n",
    "pd.DataFrame(df.Manufacturer.unique()).to_csv('../data/text_output/unique_manufacturer_{}.txt'.format(pd.datetime.now().strftime(\"%Y-%m-%d %H-%M-%S\")))"
   ]
  },
  {
   "cell_type": "markdown",
   "id": "645ebe38",
   "metadata": {},
   "source": [
    "## Unique Partnumbers:"
   ]
  },
  {
   "cell_type": "code",
   "execution_count": 14,
   "id": "053a8ffd",
   "metadata": {},
   "outputs": [
    {
     "data": {
      "text/plain": [
       "94105"
      ]
     },
     "execution_count": 14,
     "metadata": {},
     "output_type": "execute_result"
    }
   ],
   "source": [
    "df.Partnumber.nunique()"
   ]
  },
  {
   "cell_type": "markdown",
   "id": "c182f115",
   "metadata": {},
   "source": [
    "## Partnumbers by Manufacturer"
   ]
  },
  {
   "cell_type": "code",
   "execution_count": 15,
   "id": "a1262986",
   "metadata": {},
   "outputs": [
    {
     "name": "stderr",
     "output_type": "stream",
     "text": [
      "C:\\Users\\eppmi\\AppData\\Local\\Temp/ipykernel_11340/200285902.py:2: FutureWarning: The pandas.datetime class is deprecated and will be removed from pandas in a future version. Import from datetime module instead.\n",
      "  df.groupby('Manufacturer')['Partnumber'].count().to_csv('../data/text_output/patnumber_by_manufacturer_{}.txt'.format(pd.datetime.now().strftime(\"%Y-%m-%d %H-%M-%S\")))\n"
     ]
    }
   ],
   "source": [
    "df.groupby('Manufacturer')['Partnumber'].count().to_excel('../data/raw_analysis/patnumber_by_manufacturer.xlsx')\n",
    "df.groupby('Manufacturer')['Partnumber'].count().to_csv('../data/text_output/patnumber_by_manufacturer_{}.txt'.format(pd.datetime.now().strftime(\"%Y-%m-%d %H-%M-%S\")))"
   ]
  },
  {
   "cell_type": "markdown",
   "id": "7c060a82",
   "metadata": {},
   "source": [
    "## Partnumbers by supplier"
   ]
  },
  {
   "cell_type": "code",
   "execution_count": 16,
   "id": "62995000",
   "metadata": {},
   "outputs": [
    {
     "data": {
      "text/plain": [
       "supplier\n",
       "carbwel      15906\n",
       "compel       21442\n",
       "ima           1641\n",
       "jahu          1806\n",
       "lucios       16408\n",
       "medauto       7494\n",
       "metal        31275\n",
       "mte           1309\n",
       "polipecas      854\n",
       "real         15116\n",
       "rufato       18189\n",
       "sueyasu       5880\n",
       "Name: Partnumber, dtype: int64"
      ]
     },
     "execution_count": 16,
     "metadata": {},
     "output_type": "execute_result"
    }
   ],
   "source": [
    "df.groupby('supplier')['Partnumber'].count()"
   ]
  },
  {
   "cell_type": "markdown",
   "id": "c4ff41e1",
   "metadata": {},
   "source": [
    "## total unique partnumbers by manufacturer is a long table. So its better to download as excel file:"
   ]
  },
  {
   "cell_type": "code",
   "execution_count": 17,
   "id": "ba007abc",
   "metadata": {},
   "outputs": [
    {
     "name": "stderr",
     "output_type": "stream",
     "text": [
      "C:\\Users\\eppmi\\AppData\\Local\\Temp/ipykernel_11340/2301278755.py:3: FutureWarning: The pandas.datetime class is deprecated and will be removed from pandas in a future version. Import from datetime module instead.\n",
      "  df.groupby('Manufacturer')['Partnumber'].nunique().to_csv('../data/text_output/unique_partnumbers__manufacturer_{}.txt'.format(pd.datetime.now().strftime(\"%Y-%m-%d %H-%M-%S\")))\n"
     ]
    }
   ],
   "source": [
    "df.groupby('Manufacturer')['Partnumber'].nunique().to_excel('../data/raw_analysis/unique_partnumbers__manufacturer.xlsx')\n",
    "#Save with timestamp\n",
    "df.groupby('Manufacturer')['Partnumber'].nunique().to_csv('../data/text_output/unique_partnumbers__manufacturer_{}.txt'.format(pd.datetime.now().strftime(\"%Y-%m-%d %H-%M-%S\")))"
   ]
  },
  {
   "cell_type": "markdown",
   "id": "9139ff59",
   "metadata": {},
   "source": [
    "## Total Price (some prices have more than two decimal digits in the database):"
   ]
  },
  {
   "cell_type": "code",
   "execution_count": 18,
   "id": "1f503e5c",
   "metadata": {},
   "outputs": [
    {
     "name": "stdout",
     "output_type": "stream",
     "text": [
      "R$20690149.308336113\n"
     ]
    }
   ],
   "source": [
    "print('R$' + str(df.Price.sum()))"
   ]
  },
  {
   "cell_type": "markdown",
   "id": "3dc47788",
   "metadata": {},
   "source": [
    "## The Total Price by manufacturer is a long table. So its better to download as excel file:"
   ]
  },
  {
   "cell_type": "code",
   "execution_count": 19,
   "id": "20966873",
   "metadata": {},
   "outputs": [
    {
     "name": "stderr",
     "output_type": "stream",
     "text": [
      "C:\\Users\\eppmi\\AppData\\Local\\Temp/ipykernel_11340/3254780765.py:3: FutureWarning: The pandas.datetime class is deprecated and will be removed from pandas in a future version. Import from datetime module instead.\n",
      "  (df.groupby('Manufacturer')['Price'].sum()).to_csv('../data/text_output/price_by_manufacturer_{}.txt'.format(pd.datetime.now().strftime(\"%Y-%m-%d %H-%M-%S\")))\n"
     ]
    }
   ],
   "source": [
    "(df.groupby('Manufacturer')['Price'].sum()).to_excel('../data/raw_analysis/price_by_manufacturer.xlsx')\n",
    "#Save with timestamp\n",
    "(df.groupby('Manufacturer')['Price'].sum()).to_csv('../data/text_output/price_by_manufacturer_{}.txt'.format(pd.datetime.now().strftime(\"%Y-%m-%d %H-%M-%S\")))"
   ]
  },
  {
   "cell_type": "markdown",
   "id": "5d78bd9d",
   "metadata": {},
   "source": [
    "## Total Price by supplier:"
   ]
  },
  {
   "cell_type": "code",
   "execution_count": 20,
   "id": "8288df72",
   "metadata": {
    "scrolled": true
   },
   "outputs": [
    {
     "data": {
      "text/plain": [
       "supplier\n",
       "carbwel     1680782.8\n",
       "compel      2745651.2\n",
       "ima          285150.1\n",
       "jahu         225570.8\n",
       "lucios      1794224.2\n",
       "medauto     1657916.9\n",
       "metal       3365971.3\n",
       "mte          143034.1\n",
       "polipecas    196279.1\n",
       "real        2128993.7\n",
       "rufato      5497915.2\n",
       "sueyasu      968659.6\n",
       "Name: Price, dtype: float64"
      ]
     },
     "execution_count": 20,
     "metadata": {},
     "output_type": "execute_result"
    }
   ],
   "source": [
    "df.groupby('supplier')['Price'].sum()"
   ]
  },
  {
   "cell_type": "markdown",
   "id": "438fba5e",
   "metadata": {},
   "source": [
    "## Total quantity:"
   ]
  },
  {
   "cell_type": "code",
   "execution_count": 21,
   "id": "73fb147a",
   "metadata": {},
   "outputs": [
    {
     "data": {
      "text/plain": [
       "2746168.0"
      ]
     },
     "execution_count": 21,
     "metadata": {},
     "output_type": "execute_result"
    }
   ],
   "source": [
    "df.Quantity.sum()"
   ]
  },
  {
   "cell_type": "markdown",
   "id": "8e141533",
   "metadata": {},
   "source": [
    "## The Total Quantity by manufacturer is a long table. So its better to download as excel file:"
   ]
  },
  {
   "cell_type": "code",
   "execution_count": 22,
   "id": "eb55b9e7",
   "metadata": {},
   "outputs": [
    {
     "name": "stderr",
     "output_type": "stream",
     "text": [
      "C:\\Users\\eppmi\\AppData\\Local\\Temp/ipykernel_11340/1197361742.py:3: FutureWarning: The pandas.datetime class is deprecated and will be removed from pandas in a future version. Import from datetime module instead.\n",
      "  df.groupby('Manufacturer')['Quantity'].sum().to_csv('../data/text_output/quantity_by_manufacturer_{}.txt'.format(pd.datetime.now().strftime(\"%Y-%m-%d %H-%M-%S\")))\n"
     ]
    }
   ],
   "source": [
    "df.groupby('Manufacturer')['Quantity'].sum().to_excel('../data/raw_analysis/quantity_by_manufacturer.xlsx')\n",
    "#Save with timestamp\n",
    "df.groupby('Manufacturer')['Quantity'].sum().to_csv('../data/text_output/quantity_by_manufacturer_{}.txt'.format(pd.datetime.now().strftime(\"%Y-%m-%d %H-%M-%S\")))"
   ]
  },
  {
   "cell_type": "markdown",
   "id": "165af7e3",
   "metadata": {},
   "source": [
    "## Total Quantity by supplier:"
   ]
  },
  {
   "cell_type": "code",
   "execution_count": 23,
   "id": "14734e5f",
   "metadata": {},
   "outputs": [
    {
     "data": {
      "text/plain": [
       "supplier\n",
       "carbwel       62908.0\n",
       "compel            0.0\n",
       "ima            2567.0\n",
       "jahu           5120.0\n",
       "lucios       326974.0\n",
       "medauto       70131.0\n",
       "metal         31313.0\n",
       "mte           11084.0\n",
       "polipecas         0.0\n",
       "real         219409.0\n",
       "rufato      1952404.0\n",
       "sueyasu       64258.0\n",
       "Name: Quantity, dtype: float64"
      ]
     },
     "execution_count": 23,
     "metadata": {},
     "output_type": "execute_result"
    }
   ],
   "source": [
    "df.groupby('supplier')['Quantity'].sum()"
   ]
  },
  {
   "cell_type": "markdown",
   "id": "151366f7",
   "metadata": {},
   "source": [
    "## Sum of zero quantity:"
   ]
  },
  {
   "cell_type": "code",
   "execution_count": 24,
   "id": "37b0a73a",
   "metadata": {},
   "outputs": [
    {
     "data": {
      "text/plain": [
       "3717"
      ]
     },
     "execution_count": 24,
     "metadata": {},
     "output_type": "execute_result"
    }
   ],
   "source": [
    "df.Quantity[df.Quantity==0.0].count()"
   ]
  },
  {
   "cell_type": "markdown",
   "id": "26e5025d",
   "metadata": {},
   "source": [
    "## The Total zero Quantity by manufacturer is a long table. So its better to download as excel file:"
   ]
  },
  {
   "cell_type": "code",
   "execution_count": 25,
   "id": "e456e68b",
   "metadata": {},
   "outputs": [
    {
     "name": "stderr",
     "output_type": "stream",
     "text": [
      "C:\\Users\\eppmi\\AppData\\Local\\Temp/ipykernel_11340/775570495.py:3: FutureWarning: The pandas.datetime class is deprecated and will be removed from pandas in a future version. Import from datetime module instead.\n",
      "  df[df.Quantity==0.0].groupby('Manufacturer')['Quantity'].count().to_csv('../data/text_output/quantity_zero_by_manufacturer_{}.txt'.format(pd.datetime.now().strftime(\"%Y-%m-%d %H-%M-%S\")))\n"
     ]
    }
   ],
   "source": [
    "df[df.Quantity==0.0].groupby('Manufacturer')['Quantity'].count().to_excel('../data/raw_analysis/quantity_zero_by_manufacturer.xlsx')\n",
    "#Save with timestamp\n",
    "df[df.Quantity==0.0].groupby('Manufacturer')['Quantity'].count().to_csv('../data/text_output/quantity_zero_by_manufacturer_{}.txt'.format(pd.datetime.now().strftime(\"%Y-%m-%d %H-%M-%S\")))"
   ]
  },
  {
   "cell_type": "markdown",
   "id": "744df76a",
   "metadata": {},
   "source": [
    "## Total zero Quantity by supplier:"
   ]
  },
  {
   "cell_type": "code",
   "execution_count": 26,
   "id": "00e2c8df",
   "metadata": {
    "scrolled": false
   },
   "outputs": [
    {
     "data": {
      "text/plain": [
       "supplier\n",
       "carbwel      50\n",
       "jahu        617\n",
       "lucios     2354\n",
       "real          3\n",
       "rufato       10\n",
       "sueyasu     683\n",
       "Name: Quantity, dtype: int64"
      ]
     },
     "execution_count": 26,
     "metadata": {},
     "output_type": "execute_result"
    }
   ],
   "source": [
    "df[df.Quantity==0.0].groupby('supplier')['Quantity'].count()"
   ]
  },
  {
   "cell_type": "markdown",
   "id": "3b744496",
   "metadata": {},
   "source": [
    "## Sum of zero Price:"
   ]
  },
  {
   "cell_type": "code",
   "execution_count": 27,
   "id": "c8f1dc96",
   "metadata": {},
   "outputs": [
    {
     "data": {
      "text/plain": [
       "2989"
      ]
     },
     "execution_count": 27,
     "metadata": {},
     "output_type": "execute_result"
    }
   ],
   "source": [
    "df.Price[df.Price==0.0].count()"
   ]
  },
  {
   "cell_type": "markdown",
   "id": "7cc0ba6f",
   "metadata": {},
   "source": [
    "## The Total zero Price by manufacturer is a long table. So its better to download as excel file:"
   ]
  },
  {
   "cell_type": "code",
   "execution_count": 28,
   "id": "dd3494d7",
   "metadata": {},
   "outputs": [
    {
     "name": "stderr",
     "output_type": "stream",
     "text": [
      "C:\\Users\\eppmi\\AppData\\Local\\Temp/ipykernel_11340/808653483.py:3: FutureWarning: The pandas.datetime class is deprecated and will be removed from pandas in a future version. Import from datetime module instead.\n",
      "  df[df.Price==0.0].groupby('Manufacturer')['Price'].count().to_csv('../data/text_output/price_zero_by_manufacturer_{}.txt'.format(pd.datetime.now().strftime(\"%Y-%m-%d %H-%M-%S\")))\n"
     ]
    }
   ],
   "source": [
    "df[df.Price==0.0].groupby('Manufacturer')['Price'].count().to_excel('../data/raw_analysis/price_zero_by_manufacturer.xlsx')\n",
    "#Save with timestamp\n",
    "df[df.Price==0.0].groupby('Manufacturer')['Price'].count().to_csv('../data/text_output/price_zero_by_manufacturer_{}.txt'.format(pd.datetime.now().strftime(\"%Y-%m-%d %H-%M-%S\")))"
   ]
  },
  {
   "cell_type": "markdown",
   "id": "0f60c181",
   "metadata": {},
   "source": [
    "## Total zero Price by supplier:"
   ]
  },
  {
   "cell_type": "code",
   "execution_count": 29,
   "id": "dd95f03b",
   "metadata": {
    "scrolled": true
   },
   "outputs": [
    {
     "data": {
      "text/plain": [
       "supplier\n",
       "compel     2141\n",
       "metal       835\n",
       "sueyasu      13\n",
       "Name: Price, dtype: int64"
      ]
     },
     "execution_count": 29,
     "metadata": {},
     "output_type": "execute_result"
    }
   ],
   "source": [
    "df[df.Price==0.0].groupby('supplier')['Price'].count()"
   ]
  },
  {
   "cell_type": "markdown",
   "id": "47135eee",
   "metadata": {},
   "source": [
    "## Quantity in blank:"
   ]
  },
  {
   "cell_type": "markdown",
   "id": "6b648175",
   "metadata": {},
   "source": [
    "### Note: for the all the blank analysis the aggregation (manufacturer, supplier) doesn't show the same count as there is blank values in both columns"
   ]
  },
  {
   "cell_type": "markdown",
   "id": "7e6e2f5a",
   "metadata": {},
   "source": [
    "for this i'm using the original dataframe without the transformation of the data to numeric"
   ]
  },
  {
   "cell_type": "code",
   "execution_count": 30,
   "id": "b20ceabd",
   "metadata": {},
   "outputs": [
    {
     "name": "stderr",
     "output_type": "stream",
     "text": [
      "C:\\ProgramData\\Anaconda3\\lib\\site-packages\\IPython\\core\\interactiveshell.py:3172: DtypeWarning: Columns (3,4) have mixed types.Specify dtype option on import or set low_memory=False.\n",
      "  has_raised = await self.run_ast_nodes(code_ast.body, cell_name,\n"
     ]
    }
   ],
   "source": [
    "df2 = pd.read_csv('../data/merged_database/combined.csv'  , index_col=0)"
   ]
  },
  {
   "cell_type": "code",
   "execution_count": 31,
   "id": "58d024ec",
   "metadata": {},
   "outputs": [
    {
     "data": {
      "text/plain": [
       "863"
      ]
     },
     "execution_count": 31,
     "metadata": {},
     "output_type": "execute_result"
    }
   ],
   "source": [
    "df2.Quantity.isna().sum()"
   ]
  },
  {
   "cell_type": "markdown",
   "id": "f75b2953",
   "metadata": {},
   "source": [
    "## The blank zero Quantity by manufacturer is a long table. So its better to download as excel file:"
   ]
  },
  {
   "cell_type": "code",
   "execution_count": 32,
   "id": "eb4f7cd9",
   "metadata": {},
   "outputs": [
    {
     "name": "stderr",
     "output_type": "stream",
     "text": [
      "C:\\Users\\eppmi\\AppData\\Local\\Temp/ipykernel_11340/2811639711.py:3: FutureWarning: The pandas.datetime class is deprecated and will be removed from pandas in a future version. Import from datetime module instead.\n",
      "  df2[df2.Quantity.isna()==True].groupby('Manufacturer')['Manufacturer'].count().to_csv('../data/text_output/quantity_blank_by_manufacturer_{}.txt'.format(pd.datetime.now().strftime(\"%Y-%m-%d %H-%M-%S\")))\n"
     ]
    }
   ],
   "source": [
    "df2[df2.Quantity.isna()==True].groupby('Manufacturer')['Manufacturer'].count().to_excel('../data/raw_analysis/quantity_blank_by_manufacturer.xlsx')\n",
    "#Save with timestamp\n",
    "df2[df2.Quantity.isna()==True].groupby('Manufacturer')['Manufacturer'].count().to_csv('../data/text_output/quantity_blank_by_manufacturer_{}.txt'.format(pd.datetime.now().strftime(\"%Y-%m-%d %H-%M-%S\")))"
   ]
  },
  {
   "cell_type": "markdown",
   "id": "876e0642",
   "metadata": {},
   "source": [
    "## Total Blank Quantity by supplier:"
   ]
  },
  {
   "cell_type": "code",
   "execution_count": 33,
   "id": "3f7abe73",
   "metadata": {
    "scrolled": false
   },
   "outputs": [
    {
     "data": {
      "text/plain": [
       "supplier\n",
       "polipecas    863\n",
       "Name: supplier, dtype: int64"
      ]
     },
     "execution_count": 33,
     "metadata": {},
     "output_type": "execute_result"
    }
   ],
   "source": [
    "df2[df2.Quantity.isna()==True].groupby('supplier')['supplier'].count()"
   ]
  },
  {
   "cell_type": "markdown",
   "id": "010ca553",
   "metadata": {},
   "source": [
    "## Price in blank:"
   ]
  },
  {
   "cell_type": "markdown",
   "id": "fc8371de",
   "metadata": {},
   "source": [
    "for this i'm using the original dataframe without the transformation of the data to numeric"
   ]
  },
  {
   "cell_type": "code",
   "execution_count": 34,
   "id": "94b00db9",
   "metadata": {},
   "outputs": [
    {
     "data": {
      "text/plain": [
       "12"
      ]
     },
     "execution_count": 34,
     "metadata": {},
     "output_type": "execute_result"
    }
   ],
   "source": [
    "df2.Price.isna().sum()"
   ]
  },
  {
   "cell_type": "markdown",
   "id": "55197ac2",
   "metadata": {},
   "source": [
    "## Blank zero Price by manufacturer :"
   ]
  },
  {
   "cell_type": "code",
   "execution_count": 35,
   "id": "83d04ea4",
   "metadata": {},
   "outputs": [
    {
     "data": {
      "text/plain": [
       "Manufacturer\n",
       "MET4L LEVE    2\n",
       "S411O         1\n",
       "bosch         9\n",
       "Name: Manufacturer, dtype: int64"
      ]
     },
     "execution_count": 35,
     "metadata": {},
     "output_type": "execute_result"
    }
   ],
   "source": [
    "df2[df2.Price.isna()==True].groupby('Manufacturer')['Manufacturer'].count()"
   ]
  },
  {
   "cell_type": "markdown",
   "id": "7bea9cad",
   "metadata": {},
   "source": [
    "## Total Blank Price by supplier:"
   ]
  },
  {
   "cell_type": "code",
   "execution_count": 36,
   "id": "5bb80069",
   "metadata": {
    "scrolled": false
   },
   "outputs": [
    {
     "data": {
      "text/plain": [
       "supplier\n",
       "polipecas    9\n",
       "real         3\n",
       "Name: supplier, dtype: int64"
      ]
     },
     "execution_count": 36,
     "metadata": {},
     "output_type": "execute_result"
    }
   ],
   "source": [
    "df2[df2.Price.isna()==True].groupby('supplier')['supplier'].count()"
   ]
  },
  {
   "cell_type": "markdown",
   "id": "4a703463",
   "metadata": {},
   "source": [
    "## Manufacturer in blank:"
   ]
  },
  {
   "cell_type": "markdown",
   "id": "b0942a8e",
   "metadata": {},
   "source": [
    "for this i'm using the original dataframe without the transformation of the data to numeric"
   ]
  },
  {
   "cell_type": "code",
   "execution_count": 37,
   "id": "fa68b796",
   "metadata": {},
   "outputs": [
    {
     "data": {
      "text/plain": [
       "133"
      ]
     },
     "execution_count": 37,
     "metadata": {},
     "output_type": "execute_result"
    }
   ],
   "source": [
    "df2.Manufacturer.isna().sum()"
   ]
  },
  {
   "cell_type": "markdown",
   "id": "e179555e",
   "metadata": {},
   "source": [
    "## Total Blank Manufacturer by supplier:"
   ]
  },
  {
   "cell_type": "code",
   "execution_count": 38,
   "id": "ac23fdcd",
   "metadata": {
    "scrolled": false
   },
   "outputs": [
    {
     "data": {
      "text/plain": [
       "supplier\n",
       "compel    96\n",
       "metal     37\n",
       "Name: supplier, dtype: int64"
      ]
     },
     "execution_count": 38,
     "metadata": {},
     "output_type": "execute_result"
    }
   ],
   "source": [
    "df2[df2.Manufacturer.isna()==True].groupby('supplier')['supplier'].count()"
   ]
  },
  {
   "cell_type": "markdown",
   "id": "8b1361a8",
   "metadata": {},
   "source": [
    "## Partnumber in blank:"
   ]
  },
  {
   "cell_type": "markdown",
   "id": "c0e4bd3e",
   "metadata": {},
   "source": [
    "for this i'm using the original dataframe without the transformation of the data to numeric"
   ]
  },
  {
   "cell_type": "code",
   "execution_count": 39,
   "id": "1678113e",
   "metadata": {},
   "outputs": [
    {
     "data": {
      "text/plain": [
       "69"
      ]
     },
     "execution_count": 39,
     "metadata": {},
     "output_type": "execute_result"
    }
   ],
   "source": [
    "df2.Partnumber.isna().sum()"
   ]
  },
  {
   "cell_type": "markdown",
   "id": "be90536a",
   "metadata": {},
   "source": [
    "## Blank zero Partnumber by manufacturer :"
   ]
  },
  {
   "cell_type": "code",
   "execution_count": 40,
   "id": "bd56c70c",
   "metadata": {},
   "outputs": [
    {
     "data": {
      "text/plain": [
       "Manufacturer\n",
       " METAL                              2\n",
       "+METAL - QUALIDADE ORIGINAL 9164    1\n",
       "ARTEB                               9\n",
       "DEFABRI                             1\n",
       "DYNA                                1\n",
       "FORA DE LINHA                       4\n",
       "RF                                  8\n",
       "ZZLIXEIRA                           4\n",
       "bosch                               9\n",
       "Name: Manufacturer, dtype: int64"
      ]
     },
     "execution_count": 40,
     "metadata": {},
     "output_type": "execute_result"
    }
   ],
   "source": [
    "df2[df2.Partnumber.isna()==True].groupby('Manufacturer')['Manufacturer'].count()"
   ]
  },
  {
   "cell_type": "markdown",
   "id": "15822e02",
   "metadata": {},
   "source": [
    "## Total Blank Price by supplier:"
   ]
  },
  {
   "cell_type": "code",
   "execution_count": 41,
   "id": "24aced0a",
   "metadata": {
    "scrolled": false
   },
   "outputs": [
    {
     "data": {
      "text/plain": [
       "supplier\n",
       "metal        38\n",
       "polipecas     9\n",
       "rufato       22\n",
       "Name: supplier, dtype: int64"
      ]
     },
     "execution_count": 41,
     "metadata": {},
     "output_type": "execute_result"
    }
   ],
   "source": [
    "df2[df2.Partnumber.isna()==True].groupby('supplier')['supplier'].count()"
   ]
  },
  {
   "cell_type": "markdown",
   "id": "ca6788e5",
   "metadata": {},
   "source": [
    "## Quantity of strings in the field:"
   ]
  },
  {
   "cell_type": "code",
   "execution_count": 42,
   "id": "90541b32",
   "metadata": {},
   "outputs": [
    {
     "name": "stdout",
     "output_type": "stream",
     "text": [
      "Price: 131060 of 137389\n",
      "Quantity: 130209 of 137389\n"
     ]
    }
   ],
   "source": [
    "print( 'Price: ' +  str(df2[\"Price\"].apply(type).value_counts()[0]) + ' of ' + str(len(df2.Price)))\n",
    "print( 'Quantity: ' +  str(df2[\"Quantity\"].apply(type).value_counts()[0]) + ' of ' + str(len(df2.Quantity)))"
   ]
  },
  {
   "cell_type": "code",
   "execution_count": null,
   "id": "dfe2d2d1",
   "metadata": {},
   "outputs": [],
   "source": []
  }
 ],
 "metadata": {
  "hide_input": false,
  "kernelspec": {
   "display_name": "Python 3 (ipykernel)",
   "language": "python",
   "name": "python3"
  },
  "language_info": {
   "codemirror_mode": {
    "name": "ipython",
    "version": 3
   },
   "file_extension": ".py",
   "mimetype": "text/x-python",
   "name": "python",
   "nbconvert_exporter": "python",
   "pygments_lexer": "ipython3",
   "version": "3.9.7"
  },
  "varInspector": {
   "cols": {
    "lenName": 16,
    "lenType": 16,
    "lenVar": 40
   },
   "kernels_config": {
    "python": {
     "delete_cmd_postfix": "",
     "delete_cmd_prefix": "del ",
     "library": "var_list.py",
     "varRefreshCmd": "print(var_dic_list())"
    },
    "r": {
     "delete_cmd_postfix": ") ",
     "delete_cmd_prefix": "rm(",
     "library": "var_list.r",
     "varRefreshCmd": "cat(var_dic_list()) "
    }
   },
   "types_to_exclude": [
    "module",
    "function",
    "builtin_function_or_method",
    "instance",
    "_Feature"
   ],
   "window_display": false
  }
 },
 "nbformat": 4,
 "nbformat_minor": 5
}
