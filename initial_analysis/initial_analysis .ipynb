{
 "cells": [
  {
   "cell_type": "code",
   "execution_count": 1,
   "id": "cae6dd8a",
   "metadata": {},
   "outputs": [],
   "source": [
    "import pandas as pd\n",
    "import re"
   ]
  },
  {
   "cell_type": "code",
   "execution_count": 2,
   "id": "d84b646e",
   "metadata": {},
   "outputs": [],
   "source": [
    "df = pd.read_csv('../data/etl/second_etl.csv' , index_col=0)"
   ]
  },
  {
   "cell_type": "markdown",
   "id": "63caf2d3",
   "metadata": {},
   "source": [
    "## Total unique Manufacturers:"
   ]
  },
  {
   "cell_type": "code",
   "execution_count": 3,
   "id": "70bf9750",
   "metadata": {},
   "outputs": [
    {
     "data": {
      "text/plain": [
       "1079"
      ]
     },
     "execution_count": 3,
     "metadata": {},
     "output_type": "execute_result"
    }
   ],
   "source": [
    "df.Manufacturer.nunique()"
   ]
  },
  {
   "cell_type": "markdown",
   "id": "607cc3e2",
   "metadata": {},
   "source": [
    "## Manufacturers by suppliers"
   ]
  },
  {
   "cell_type": "code",
   "execution_count": 4,
   "id": "c0df968e",
   "metadata": {},
   "outputs": [
    {
     "data": {
      "text/plain": [
       "supplier\n",
       "carbwel    15856\n",
       "compel      6880\n",
       "ima         1641\n",
       "jahu        1189\n",
       "lucios     14054\n",
       "medauto     7494\n",
       "metal      30448\n",
       "mte         1309\n",
       "real       15113\n",
       "rufato     18201\n",
       "sueyasu     5197\n",
       "Name: Manufacturer, dtype: int64"
      ]
     },
     "execution_count": 4,
     "metadata": {},
     "output_type": "execute_result"
    }
   ],
   "source": [
    "df.groupby('supplier')['Manufacturer'].count()"
   ]
  },
  {
   "cell_type": "markdown",
   "id": "78300648",
   "metadata": {},
   "source": [
    "## total unique manufacturers by supplier"
   ]
  },
  {
   "cell_type": "code",
   "execution_count": 5,
   "id": "eb7a0692",
   "metadata": {},
   "outputs": [
    {
     "data": {
      "text/plain": [
       "supplier\n",
       "carbwel    287\n",
       "compel      39\n",
       "ima          1\n",
       "jahu         3\n",
       "lucios     117\n",
       "medauto    273\n",
       "metal      346\n",
       "mte          1\n",
       "real        79\n",
       "rufato      78\n",
       "sueyasu     20\n",
       "Name: Manufacturer, dtype: int64"
      ]
     },
     "execution_count": 5,
     "metadata": {},
     "output_type": "execute_result"
    }
   ],
   "source": [
    "df.groupby('supplier')['Manufacturer'].nunique()"
   ]
  },
  {
   "cell_type": "markdown",
   "id": "d686d840",
   "metadata": {},
   "source": [
    "## Unique manufacturer names:"
   ]
  },
  {
   "cell_type": "code",
   "execution_count": 6,
   "id": "5a880d12",
   "metadata": {},
   "outputs": [],
   "source": [
    "pd.DataFrame(df.Manufacturer.unique()).to_excel('../data/initial_analysis/unique_manufacturer.xlsx')"
   ]
  },
  {
   "cell_type": "markdown",
   "id": "645ebe38",
   "metadata": {},
   "source": [
    "## Unique Partnumbers:"
   ]
  },
  {
   "cell_type": "code",
   "execution_count": 7,
   "id": "053a8ffd",
   "metadata": {},
   "outputs": [
    {
     "data": {
      "text/plain": [
       "76788"
      ]
     },
     "execution_count": 7,
     "metadata": {},
     "output_type": "execute_result"
    }
   ],
   "source": [
    "df.Partnumber.nunique()"
   ]
  },
  {
   "cell_type": "markdown",
   "id": "c182f115",
   "metadata": {},
   "source": [
    "## Partnumbers by Manufacturer"
   ]
  },
  {
   "cell_type": "code",
   "execution_count": 8,
   "id": "a1262986",
   "metadata": {},
   "outputs": [],
   "source": [
    "df.groupby('Manufacturer')['Partnumber'].count().to_excel('../data/initial_analysis/patnumber_by_manufacturer.xlsx')"
   ]
  },
  {
   "cell_type": "markdown",
   "id": "7c060a82",
   "metadata": {},
   "source": [
    "## Partnumbers by supplier"
   ]
  },
  {
   "cell_type": "code",
   "execution_count": 9,
   "id": "62995000",
   "metadata": {},
   "outputs": [
    {
     "data": {
      "text/plain": [
       "supplier\n",
       "carbwel    15856\n",
       "compel      6880\n",
       "ima         1641\n",
       "jahu        1189\n",
       "lucios     14054\n",
       "medauto     7494\n",
       "metal      30448\n",
       "mte         1309\n",
       "real       15113\n",
       "rufato     18201\n",
       "sueyasu     5197\n",
       "Name: Partnumber, dtype: int64"
      ]
     },
     "execution_count": 9,
     "metadata": {},
     "output_type": "execute_result"
    }
   ],
   "source": [
    "df.groupby('supplier')['Partnumber'].count()"
   ]
  },
  {
   "cell_type": "markdown",
   "id": "2a248c67",
   "metadata": {},
   "source": [
    "## total unique partnumbers by manufacturer is a long table. So its better to download as excel file:"
   ]
  },
  {
   "cell_type": "code",
   "execution_count": 10,
   "id": "d33c3325",
   "metadata": {},
   "outputs": [],
   "source": [
    "df.groupby('Manufacturer')['Partnumber'].nunique().to_excel('../data/initial_analysis/unique_partnumbers__manufacturer.xlsx')"
   ]
  },
  {
   "cell_type": "markdown",
   "id": "9139ff59",
   "metadata": {},
   "source": [
    "## Total Price (some prices have more than two decimal digits in the database):"
   ]
  },
  {
   "cell_type": "code",
   "execution_count": 11,
   "id": "1f503e5c",
   "metadata": {},
   "outputs": [
    {
     "name": "stdout",
     "output_type": "stream",
     "text": [
      "R$17953465.959999997\n"
     ]
    }
   ],
   "source": [
    "print('R$' + str(df.Price.sum()))"
   ]
  },
  {
   "cell_type": "markdown",
   "id": "3dc47788",
   "metadata": {},
   "source": [
    "## The Total Price by manufacturer is a long table. So its better to download as excel file:"
   ]
  },
  {
   "cell_type": "code",
   "execution_count": 12,
   "id": "20966873",
   "metadata": {},
   "outputs": [],
   "source": [
    "(df.groupby('Manufacturer')['Price'].sum()).to_excel('../data/initial_analysis/price_by_manufacturer.xlsx')"
   ]
  },
  {
   "cell_type": "markdown",
   "id": "5d78bd9d",
   "metadata": {},
   "source": [
    "## Total Price by supplier:"
   ]
  },
  {
   "cell_type": "code",
   "execution_count": 13,
   "id": "8288df72",
   "metadata": {
    "scrolled": true
   },
   "outputs": [
    {
     "data": {
      "text/plain": [
       "supplier\n",
       "carbwel    1664431.20\n",
       "compel      819471.59\n",
       "ima         285150.16\n",
       "jahu        114834.91\n",
       "lucios     1521591.91\n",
       "medauto    1657916.87\n",
       "metal      3363732.99\n",
       "mte         143034.15\n",
       "real       2128993.74\n",
       "rufato     5490601.17\n",
       "sueyasu     763707.27\n",
       "Name: Price, dtype: float64"
      ]
     },
     "execution_count": 13,
     "metadata": {},
     "output_type": "execute_result"
    }
   ],
   "source": [
    "df.groupby('supplier')['Price'].sum()"
   ]
  },
  {
   "cell_type": "markdown",
   "id": "438fba5e",
   "metadata": {},
   "source": [
    "## Total quantity:"
   ]
  },
  {
   "cell_type": "code",
   "execution_count": 14,
   "id": "73fb147a",
   "metadata": {},
   "outputs": [
    {
     "data": {
      "text/plain": [
       "2804750.0"
      ]
     },
     "execution_count": 14,
     "metadata": {},
     "output_type": "execute_result"
    }
   ],
   "source": [
    "df.Quantity.sum()"
   ]
  },
  {
   "cell_type": "markdown",
   "id": "8e141533",
   "metadata": {},
   "source": [
    "## The Total Quantity by manufacturer is a long table. So its better to download as excel file:"
   ]
  },
  {
   "cell_type": "code",
   "execution_count": 15,
   "id": "eb55b9e7",
   "metadata": {},
   "outputs": [],
   "source": [
    "df.groupby('Manufacturer')['Quantity'].sum().to_excel('../data/initial_analysis/quantity_by_manufacturer.xlsx')"
   ]
  },
  {
   "cell_type": "markdown",
   "id": "165af7e3",
   "metadata": {},
   "source": [
    "## Total Quantity by supplier:"
   ]
  },
  {
   "cell_type": "code",
   "execution_count": 16,
   "id": "14734e5f",
   "metadata": {},
   "outputs": [
    {
     "data": {
      "text/plain": [
       "supplier\n",
       "carbwel      62908.0\n",
       "compel       52237.0\n",
       "ima           2567.0\n",
       "jahu         12330.0\n",
       "lucios      326974.0\n",
       "medauto      70131.0\n",
       "metal        30448.0\n",
       "mte          11084.0\n",
       "real        219409.0\n",
       "rufato     1952404.0\n",
       "sueyasu      64258.0\n",
       "Name: Quantity, dtype: float64"
      ]
     },
     "execution_count": 16,
     "metadata": {},
     "output_type": "execute_result"
    }
   ],
   "source": [
    "df.groupby('supplier')['Quantity'].sum()"
   ]
  },
  {
   "cell_type": "markdown",
   "id": "2a91a5eb",
   "metadata": {},
   "source": [
    "in initial_anaysis, add the following items:\n",
    "\n",
    "\n",
    "by manufacturer\n",
    "by supplier\n"
   ]
  },
  {
   "cell_type": "markdown",
   "id": "5df02e7b",
   "metadata": {},
   "source": [
    "## the average price (i.g. price/quantity)  in total:"
   ]
  },
  {
   "cell_type": "code",
   "execution_count": 17,
   "id": "14be564f",
   "metadata": {},
   "outputs": [
    {
     "data": {
      "text/plain": [
       "6.401093131295124"
      ]
     },
     "execution_count": 17,
     "metadata": {},
     "output_type": "execute_result"
    }
   ],
   "source": [
    "df.Price.sum()/df.Quantity.sum()"
   ]
  },
  {
   "cell_type": "markdown",
   "id": "524e62a6",
   "metadata": {},
   "source": [
    "## the average price (i.g. price/quantity)  by manufacturer:"
   ]
  },
  {
   "cell_type": "code",
   "execution_count": 18,
   "id": "44230715",
   "metadata": {},
   "outputs": [],
   "source": [
    "pd.DataFrame(df.groupby(\"Manufacturer\")[\"Price\"].sum()/df.groupby(\"Manufacturer\")[\"Quantity\"].sum()).to_excel('../data/initial_analysis/avg_price_by_manufacturer.xlsx')"
   ]
  },
  {
   "cell_type": "markdown",
   "id": "f5541c15",
   "metadata": {},
   "source": [
    "## the average price (i.g. price/quantity)  by supplier:"
   ]
  },
  {
   "cell_type": "code",
   "execution_count": 19,
   "id": "d6afd8cc",
   "metadata": {},
   "outputs": [
    {
     "data": {
      "text/plain": [
       "supplier\n",
       "carbwel     26.458180\n",
       "compel      15.687570\n",
       "ima        111.083039\n",
       "jahu         9.313456\n",
       "lucios       4.653556\n",
       "medauto     23.640286\n",
       "metal      110.474678\n",
       "mte         12.904561\n",
       "real         9.703311\n",
       "rufato       2.812226\n",
       "sueyasu     11.885015\n",
       "dtype: float64"
      ]
     },
     "execution_count": 19,
     "metadata": {},
     "output_type": "execute_result"
    }
   ],
   "source": [
    "df.groupby(\"supplier\")[\"Price\"].sum()/df.groupby(\"supplier\")[\"Quantity\"].sum()"
   ]
  },
  {
   "cell_type": "markdown",
   "id": "76e0a247",
   "metadata": {},
   "source": [
    "for each supplier, a separate excel report with the following by manufacturer:\n",
    "count of partnumbers\n",
    "sum of quantity\n",
    "average price \n"
   ]
  },
  {
   "cell_type": "markdown",
   "id": "64fa9bcd",
   "metadata": {},
   "source": [
    "## count of partnumbers for each supplier by manufacturer:\n"
   ]
  },
  {
   "cell_type": "code",
   "execution_count": 20,
   "id": "4e4522f0",
   "metadata": {},
   "outputs": [],
   "source": [
    "df.groupby([\"supplier\",\"Manufacturer\"])[\"Partnumber\"].count().to_excel('../data/initial_analysis/partnumbers_supplier_manufacturer.xlsx')"
   ]
  },
  {
   "cell_type": "markdown",
   "id": "0bc12fc4",
   "metadata": {},
   "source": [
    "## sum of quantity of partnumbers for each supplier by manufacturer:"
   ]
  },
  {
   "cell_type": "code",
   "execution_count": 21,
   "id": "47b0d803",
   "metadata": {},
   "outputs": [],
   "source": [
    "df.groupby([\"supplier\",\"Manufacturer\"])[\"Quantity\"].sum().to_excel('../data/initial_analysis/quantity_supplier_manufacturer.xlsx')"
   ]
  },
  {
   "cell_type": "code",
   "execution_count": 22,
   "id": "43bfd177",
   "metadata": {},
   "outputs": [],
   "source": [
    "df.groupby([\"supplier\",\"Manufacturer\"])[\"Price\"].mean().to_excel('../data/initial_analysis/price_supplier_manufacturer.xlsx')"
   ]
  },
  {
   "cell_type": "code",
   "execution_count": null,
   "id": "5558fcde",
   "metadata": {},
   "outputs": [],
   "source": []
  }
 ],
 "metadata": {
  "hide_input": false,
  "kernelspec": {
   "display_name": "Python 3 (ipykernel)",
   "language": "python",
   "name": "python3"
  },
  "language_info": {
   "codemirror_mode": {
    "name": "ipython",
    "version": 3
   },
   "file_extension": ".py",
   "mimetype": "text/x-python",
   "name": "python",
   "nbconvert_exporter": "python",
   "pygments_lexer": "ipython3",
   "version": "3.9.7"
  },
  "varInspector": {
   "cols": {
    "lenName": 16,
    "lenType": 16,
    "lenVar": 40
   },
   "kernels_config": {
    "python": {
     "delete_cmd_postfix": "",
     "delete_cmd_prefix": "del ",
     "library": "var_list.py",
     "varRefreshCmd": "print(var_dic_list())"
    },
    "r": {
     "delete_cmd_postfix": ") ",
     "delete_cmd_prefix": "rm(",
     "library": "var_list.r",
     "varRefreshCmd": "cat(var_dic_list()) "
    }
   },
   "types_to_exclude": [
    "module",
    "function",
    "builtin_function_or_method",
    "instance",
    "_Feature"
   ],
   "window_display": false
  }
 },
 "nbformat": 4,
 "nbformat_minor": 5
}
