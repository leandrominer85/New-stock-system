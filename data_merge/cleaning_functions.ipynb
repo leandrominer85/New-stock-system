{
 "cells": [
  {
   "cell_type": "code",
   "execution_count": null,
   "id": "63ef0bc9",
   "metadata": {
    "lines_to_next_cell": 0
   },
   "outputs": [],
   "source": []
  },
  {
   "cell_type": "code",
   "execution_count": null,
   "id": "9c27de06",
   "metadata": {},
   "outputs": [],
   "source": [
    "import pandas as pd\n",
    "import numpy as np"
   ]
  },
  {
   "cell_type": "code",
   "execution_count": null,
   "id": "9c872633",
   "metadata": {
    "lines_to_next_cell": 1
   },
   "outputs": [],
   "source": [
    "# Functions to initially process the dataframes that need some work:\n",
    "'''\n",
    "suppliers that are manufacturers: mte, ima\n",
    "added hard coded \"bosch\" for Polipecas \n",
    "'''"
   ]
  },
  {
   "cell_type": "code",
   "execution_count": null,
   "id": "17b393d2",
   "metadata": {},
   "outputs": [],
   "source": [
    "def mte_process(df):\n",
    "        \n",
    "    # Remove first row as it is empty\n",
    "    df.drop(    index=df.index[0], \n",
    "                axis=0, \n",
    "                inplace=True)\n",
    "   \n",
    "    df.rename({'COD MTE' : 'Partnumber', 'PREÇO' : 'Price' ,\n",
    "               'QTD. ESTOQUE':'Quantity'}, axis=1, inplace= True)\n",
    "    \n",
    "    df['Manufacturer'] = 'mte'\n",
    "    \n",
    "    df= df[[\"Manufacturer\", \"Partnumber\", \"Quantity\", \"Price\"]]\n",
    "    \n",
    "    return df"
   ]
  },
  {
   "cell_type": "code",
   "execution_count": null,
   "id": "fdd5b935",
   "metadata": {},
   "outputs": [],
   "source": [
    "def sueyasu_process(df):\n",
    "    # Remove first row (unwanted data)\n",
    "    df.drop(    index=df.index[0], \n",
    "                axis=0, \n",
    "                inplace=True)\n",
    "    return df"
   ]
  },
  {
   "cell_type": "code",
   "execution_count": null,
   "id": "4feec7f5",
   "metadata": {},
   "outputs": [],
   "source": [
    "def polipecas_process(df): \n",
    "    ###WHAT IF THERE IS ZERO IN THE BEGINNING OF PART NUMBER\n",
    "\n",
    "    # Add manufacturer column and hard coding \"bosch\" in it\n",
    "    df.insert(    loc=0, \n",
    "                column='new col', \n",
    "                value=['bosch' for i in range(df.shape[0])])\n",
    "\n",
    "    # Add empty quantity column\n",
    "    df.insert(    loc=2, \n",
    "                column='new col2', \n",
    "                value=['' for i in range(df.shape[0])])\n",
    "\n",
    "    return df"
   ]
  },
  {
   "cell_type": "code",
   "execution_count": null,
   "id": "8dc40aaa",
   "metadata": {},
   "outputs": [],
   "source": [
    "def ima_process(df):\n",
    "    \n",
    "    df.rename({'Código XML' : 'Partnumber',\n",
    "               'Estoque':'Quantity'}, axis=1, inplace= True)\n",
    "    \n",
    "    df['Manufacturer'] = 'ima'\n",
    "    df['Price'] = np.nan\n",
    "    df= df[[\"Manufacturer\", \"Partnumber\", \"Quantity\", \"Price\"]]\n",
    "\n",
    "    return df"
   ]
  },
  {
   "cell_type": "code",
   "execution_count": null,
   "id": "4e7f9a2a",
   "metadata": {},
   "outputs": [],
   "source": [
    "def compel_process(df):\n",
    "    # Remove first row (unwanted data)\n",
    "    df.drop(    index=df.index[:2], \n",
    "                axis=0, \n",
    "                inplace=True)\n",
    "    return df"
   ]
  },
  {
   "cell_type": "code",
   "execution_count": null,
   "id": "ad53a994",
   "metadata": {
    "lines_to_next_cell": 2
   },
   "outputs": [],
   "source": [
    "def jahu_process(df):\n",
    "\n",
    "    df.rename({'Marca': 'Manufacturer',\n",
    "               'Cód.Fabricante' : 'Partnumber', 'Preco' : 'Price' ,\n",
    "               'Disponivel':'Quantity'}, axis=1, inplace= True)\n",
    "    \n",
    "    df= df[[\"Manufacturer\", \"Partnumber\", \"Quantity\", \"Price\"]]\n",
    "    \n",
    "    \n",
    "    return df"
   ]
  }
 ],
 "metadata": {
  "hide_input": false,
  "jupytext": {
   "cell_metadata_filter": "-all",
   "encoding": "# coding: utf-8",
   "executable": "/usr/bin/env python",
   "notebook_metadata_filter": "-all"
  },
  "kernelspec": {
   "display_name": "Python 3 (ipykernel)",
   "language": "python",
   "name": "python3"
  },
  "language_info": {
   "codemirror_mode": {
    "name": "ipython",
    "version": 3
   },
   "file_extension": ".py",
   "mimetype": "text/x-python",
   "name": "python",
   "nbconvert_exporter": "python",
   "pygments_lexer": "ipython3",
   "version": "3.9.7"
  },
  "varInspector": {
   "cols": {
    "lenName": 16,
    "lenType": 16,
    "lenVar": 40
   },
   "kernels_config": {
    "python": {
     "delete_cmd_postfix": "",
     "delete_cmd_prefix": "del ",
     "library": "var_list.py",
     "varRefreshCmd": "print(var_dic_list())"
    },
    "r": {
     "delete_cmd_postfix": ") ",
     "delete_cmd_prefix": "rm(",
     "library": "var_list.r",
     "varRefreshCmd": "cat(var_dic_list()) "
    }
   },
   "types_to_exclude": [
    "module",
    "function",
    "builtin_function_or_method",
    "instance",
    "_Feature"
   ],
   "window_display": false
  }
 },
 "nbformat": 4,
 "nbformat_minor": 5
}
