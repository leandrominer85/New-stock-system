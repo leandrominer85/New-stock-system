{
 "cells": [
  {
   "cell_type": "code",
   "execution_count": null,
   "id": "63ef0bc9",
   "metadata": {
    "lines_to_next_cell": 0
   },
   "outputs": [],
   "source": []
  },
  {
   "cell_type": "code",
   "execution_count": null,
   "id": "9c27de06",
   "metadata": {},
   "outputs": [],
   "source": [
    "import pandas as pd\n",
    "import numpy as np"
   ]
  },
  {
   "cell_type": "code",
   "execution_count": null,
   "id": "9c872633",
   "metadata": {
    "lines_to_next_cell": 1
   },
   "outputs": [],
   "source": [
    "# Functions to initially process the dataframes that need some work:\n",
    "'''\n",
    "suppliers that are manufacturers: mte, ima\n",
    "added hard coded \"bosch\" for Polipecas \n",
    "'''"
   ]
  },
  {
   "cell_type": "code",
   "execution_count": null,
   "id": "17b393d2",
   "metadata": {},
   "outputs": [],
   "source": [
    "def mte_process(df):\n",
    "        \n",
    "    # Remove first row as it is empty\n",
    "    df.drop(    index=df.index[0], \n",
    "                axis=0, \n",
    "                inplace=True)\n",
    "   \n",
    "    df.rename({'COD MTE' : 'Partnumber', 'PREÇO' : 'Price' ,\n",
    "               'QTD. ESTOQUE':'Quantity'}, axis=1, inplace= True)\n",
    "    \n",
    "    df['Manufacturer'] = 'mte'\n",
    "    \n",
    "    df= df[[\"Manufacturer\", \"Partnumber\", \"Quantity\", \"Price\"]]\n",
    "    \n",
    "    return df"
   ]
  },
  {
   "cell_type": "code",
   "execution_count": null,
   "id": "fdd5b935",
   "metadata": {},
   "outputs": [],
   "source": [
    "def sueyasu_process(df):\n",
    "    # Remove first row (unwanted data)\n",
    "    df.drop(    index=df.index[0], \n",
    "                axis=0, \n",
    "                inplace=True)\n",
    "    return df"
   ]
  },
  {
   "cell_type": "code",
   "execution_count": null,
   "id": "4feec7f5",
   "metadata": {},
   "outputs": [],
   "source": [
    "def polipecas_process(df): \n",
    "    ###WHAT IF THERE IS ZERO IN THE BEGINNING OF PART NUMBER\n",
    "\n",
    "    # Add manufacturer column and hard coding \"bosch\" in it\n",
    "    df.insert(    loc=0, \n",
    "                column='new col', \n",
    "                value=['bosch' for i in range(df.shape[0])])\n",
    "\n",
    "    # Add empty quantity column\n",
    "    df.insert(    loc=2, \n",
    "                column='new col2', \n",
    "                value=['' for i in range(df.shape[0])])\n",
    "\n",
    "    return df"
   ]
  },
  {
   "cell_type": "code",
   "execution_count": null,
   "id": "8dc40aaa",
   "metadata": {},
   "outputs": [],
   "source": [
    "def ima_process(df):\n",
    "    \n",
    "    df.rename({'Código' : 'Partnumber',\n",
    "               'Múltiplos':'Quantity', \"Preço C/Imp SP\":\"Price\"}, axis=1, inplace= True)\n",
    "    \n",
    "    df['Manufacturer'] = 'ima'\n",
    "    df= df[[\"Manufacturer\", \"Partnumber\", \"Quantity\", \"Price\"]]\n",
    "\n",
    "    return df"
   ]
  },
  {
   "cell_type": "code",
   "execution_count": null,
   "id": "4e7f9a2a",
   "metadata": {},
   "outputs": [],
   "source": [
    "def compel_process(df):\n",
    "    # Remove first row (unwanted data)\n",
    "    df.drop(    index=df.index[:2], \n",
    "                axis=0, \n",
    "                inplace=True)\n",
    "    return df"
   ]
  },
  {
   "cell_type": "code",
   "execution_count": null,
   "id": "ad53a994",
   "metadata": {
    "lines_to_next_cell": 2
   },
   "outputs": [],
   "source": [
    "def jahu_process(df):\n",
    "    \n",
    "    \n",
    "    df2 = df[df[\"Marca\"] == 'JAHU PLACA PRETA              ']\n",
    "    df2[\"Cód.Fabricante\"] = df2[\"Produto\"]\n",
    "    df[df.Marca == 'JAHU PLACA PRETA              '] = df2\n",
    "\n",
    "    df.rename({'Marca': 'Manufacturer',\n",
    "               'Cód.Fabricante' : 'Partnumber', 'Preco' : 'Price' ,\n",
    "               'Disponivel':'Quantity'}, axis=1, inplace= True)\n",
    "    \n",
    "    df= df[[\"Manufacturer\", \"Partnumber\", \"Quantity\", \"Price\"]]\n",
    "    \n",
    "    \n",
    "    return df"
   ]
  },
  {
   "cell_type": "code",
   "execution_count": 1,
   "id": "51c6a5fc",
   "metadata": {},
   "outputs": [],
   "source": [
    "def real_process(df):\n",
    "    \n",
    "    \n",
    "        #Coding the prices\n",
    "    real = {'A' : '4',\n",
    "    'B' : '11'}\n",
    "\n",
    "    # Changing real\n",
    "    df = df.replace(real, regex=True)\n",
    "\n",
    "    #Selecting the collumns and assing to a new df\n",
    "    cols= ['QTDE_SPNORTE' ,'PRECO_SPNORTE','QTDE_ABC','PRECO_ABC','QTDE_SPLESTE','PRECO_SPLESTE']\n",
    "    df2 = df[cols]\n",
    "    \n",
    "    #coding as strings\n",
    "    df2[cols] = df2[cols].astype(str)\n",
    "    \n",
    "    # Replacing the commas\n",
    "    for col in cols:\n",
    "        df2[col] = df2[col].apply(lambda x: x.replace(',','.'))\n",
    "        \n",
    "    #Transforming to numeric\n",
    "    df2[cols] = df2[cols].apply(pd.to_numeric, errors='coerce')\n",
    "    \n",
    "    #replace all zeros with NaN values\n",
    "    prices= ['PRECO_SPNORTE','PRECO_ABC','PRECO_SPLESTE']\n",
    "    df2[prices] = df2[prices].replace(0.0, np.nan)\n",
    "    \n",
    "    #Get a list with the minimum values\n",
    "    minimun = df2[['PRECO_SPNORTE','PRECO_ABC','PRECO_SPLESTE']].min(axis=1)\n",
    "    \n",
    "    \n",
    "        #Start with empty lists of price and quantities\n",
    "    prices = []\n",
    "    quantities = []\n",
    "\n",
    "\n",
    "    #Iterate trought the minimun list and for each value select the corresponding quantity value\n",
    "\n",
    "    for i in enumerate(minimun):\n",
    "\n",
    "\n",
    "        # If all columns have the minimum value:\n",
    "        if (df2.iloc[i[0],1] == i[1]) & (df2.iloc[i[0],3] == i[1]) & (df2.iloc[i[0],5] == i[1]):\n",
    "            quantity = np.nansum([df2.iloc[i[0],0]] + [df2.iloc[i[0],2]] + [df2.iloc[i[0],4]])\n",
    "            price = i[1]\n",
    "            prices.append(price)\n",
    "            quantities.append(quantity)\n",
    "\n",
    "        #If the first two columns have the minimum value\n",
    "        elif (df2.iloc[i[0],1] == i[1]) & (df2.iloc[i[0],3] == i[1]) & (df2.iloc[i[0],5] != i[1]):\n",
    "            quantity = np.nansum([df2.iloc[i[0],0]] + [df2.iloc[i[0],2]])\n",
    "            price = i[1]\n",
    "            prices.append(price)\n",
    "            quantities.append(quantity)\n",
    "\n",
    "\n",
    "        #If the middle col dosen´t have the minimum value:\n",
    "        elif (df2.iloc[i[0],1] == i[1]) & (df2.iloc[i[0],3] != i[1]) & (df2.iloc[i[0],5] == i[1]):\n",
    "            quantity = np.nansum([df2.iloc[i[0],0]]  + [df2.iloc[i[0],4]])\n",
    "            price = i[1]\n",
    "            prices.append(price)\n",
    "            quantities.append(quantity)\n",
    "\n",
    "        #If the first col dosen´t have the minimum value:\n",
    "        elif (df2.iloc[i[0],1] != i[1]) & (df2.iloc[i[0],3] == i[1]) & (df2.iloc[i[0],5] == i[1]):\n",
    "            quantity = np.nansum([df2.iloc[i[0],2]] + [df2.iloc[i[0],4]])\n",
    "            price = i[1]\n",
    "            prices.append(price)\n",
    "            quantities.append(quantity)\n",
    "\n",
    "        #If there is just one collum with the minimum:\n",
    "        elif (df2.iloc[i[0],1] == i[1]) & (df2.iloc[i[0],3] != i[1]) & (df2.iloc[i[0],5] != i[1]):\n",
    "            quantity = np.nansum([df2.iloc[i[0],0]])\n",
    "            price = i[1]\n",
    "            prices.append(price)\n",
    "            quantities.append(quantity)  \n",
    "\n",
    "        elif (df2.iloc[i[0],1] != i[1]) & (df2.iloc[i[0],3] == i[1]) & (df2.iloc[i[0],5] != i[1]):\n",
    "            quantity = np.nansum([df2.iloc[i[0],2]])\n",
    "            price = i[1]\n",
    "            prices.append(price)\n",
    "            quantities.append(quantity)  \n",
    "\n",
    "        elif (df2.iloc[i[0],1] != i[1]) & (df2.iloc[i[0],3] != i[1]) & (df2.iloc[i[0],5] == i[1]):\n",
    "            quantity = np.nansum([df2.iloc[i[0],4]])\n",
    "            price = i[1]\n",
    "            prices.append(price)\n",
    "            quantities.append(quantity)\n",
    "\n",
    "        else:\n",
    "            quantity = 0\n",
    "            price = i[1]\n",
    "            prices.append(price)\n",
    "            quantities.append(quantity)\n",
    "        \n",
    "    df['sumed_quantity_for_best_price_only'] = quantities\n",
    "    df['best_price_with_stock'] = prices\n",
    "    \n",
    "    \n",
    "    df.rename({'NOME_FANTASIA': 'Manufacturer',\n",
    "               'COD_FABRICANTE' : 'Partnumber', 'best_price_with_stock' : 'Price' ,\n",
    "               'sumed_quantity_for_best_price_only':'Quantity'}, axis=1, inplace= True)\n",
    "\n",
    "    df= df[[\"Manufacturer\", \"Partnumber\", \"Quantity\", \"Price\"]]\n",
    "\n",
    "    \n",
    "    \n",
    "    return df"
   ]
  },
  {
   "cell_type": "code",
   "execution_count": null,
   "id": "4646f762",
   "metadata": {},
   "outputs": [],
   "source": []
  }
 ],
 "metadata": {
  "hide_input": false,
  "jupytext": {
   "cell_metadata_filter": "-all",
   "encoding": "# coding: utf-8",
   "executable": "/usr/bin/env python",
   "notebook_metadata_filter": "-all"
  },
  "kernelspec": {
   "display_name": "Python 3 (ipykernel)",
   "language": "python",
   "name": "python3"
  },
  "language_info": {
   "codemirror_mode": {
    "name": "ipython",
    "version": 3
   },
   "file_extension": ".py",
   "mimetype": "text/x-python",
   "name": "python",
   "nbconvert_exporter": "python",
   "pygments_lexer": "ipython3",
   "version": "3.9.7"
  },
  "varInspector": {
   "cols": {
    "lenName": 16,
    "lenType": 16,
    "lenVar": 40
   },
   "kernels_config": {
    "python": {
     "delete_cmd_postfix": "",
     "delete_cmd_prefix": "del ",
     "library": "var_list.py",
     "varRefreshCmd": "print(var_dic_list())"
    },
    "r": {
     "delete_cmd_postfix": ") ",
     "delete_cmd_prefix": "rm(",
     "library": "var_list.r",
     "varRefreshCmd": "cat(var_dic_list()) "
    }
   },
   "types_to_exclude": [
    "module",
    "function",
    "builtin_function_or_method",
    "instance",
    "_Feature"
   ],
   "window_display": false
  }
 },
 "nbformat": 4,
 "nbformat_minor": 5
}
