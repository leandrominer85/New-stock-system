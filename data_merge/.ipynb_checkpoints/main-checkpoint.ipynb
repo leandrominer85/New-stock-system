{
 "cells": [
  {
   "cell_type": "code",
   "execution_count": 1,
   "id": "c3e5fb0b",
   "metadata": {},
   "outputs": [],
   "source": [
    "import pandas as pd\n",
    "import glob\n",
    "from cleaning_functions import *\n",
    "from read_file import *"
   ]
  },
  {
   "cell_type": "code",
   "execution_count": 2,
   "id": "32871186",
   "metadata": {},
   "outputs": [],
   "source": [
    "# Get a list of files to read from the path\n",
    "path = '..\\data\\originals\\*'\n",
    "files = glob.glob(path)"
   ]
  },
  {
   "cell_type": "code",
   "execution_count": 3,
   "id": "3f3721a6",
   "metadata": {},
   "outputs": [],
   "source": [
    "# Dictionary to pass to the read function. For each file it needs the header (where the column name is), the columns \n",
    "# names and if any special operations is needed (the cleaning_functions functions)\n",
    "\n",
    "\n",
    "file_columns = {\n",
    "    \"metal\":    {    \"header\": 0, \n",
    "                    \"columns\": [\"Fabricante\", \"Codigo_fornecedor\", \"quantity\", \"PRECO_LIQUIDO\"],\n",
    "                    \"special_operation\": None\n",
    "                },\n",
    "\n",
    "    \"medauto\":    {    \"header\": 0, \n",
    "                    \"columns\": [\"Fornecedor\", \"NUMERO DA PEÇA\", \"ESTOQUE\", \"PREÇO\"],\n",
    "                    \"special_operation\": None\n",
    "                },\n",
    "    \"lucios\":     {    \"header\": 0, \n",
    "                    \"columns\": [\"Fabricante\", \"Código Lucios\", \"Disponibilidade\", \"Preço\"],\n",
    "                    \"special_operation\": None\n",
    "                },\n",
    "    \"carbwel\":     {    \"header\": 0, \n",
    "                    \"columns\": [\"Fabricante\", \"Código Fabricante\", \"Disponivel\", \"PrcVenda\"],\n",
    "                    \"special_operation\": None\n",
    "                },\n",
    "    \"mte\":     {    \"header\": 0, \n",
    "                    \"columns\": [\"COD MTE\", \"QTD. ESTOQUE\", \"PREÇO\"],\n",
    "                    \"special_operation\": mte_process\n",
    "                },\n",
    "    \"sueyasu\":     {    \"header\": 0, \n",
    "                    \"columns\": [\"NOME DO FABRICANTE\", \"CODIGO DA PEÇA (FABRICANTE)\", \"QUANTIDADE EM ESTOQUE\", \"PREÇO\"],\n",
    "                    \"special_operation\": sueyasu_process\n",
    "                },\n",
    "    \"polipecas\":{    \"header\": 2, \n",
    "                    \"columns\": [\"COD. FORNECEDOR\", \"PREÇO\"],\n",
    "                    \"special_operation\": polipecas_process\n",
    "                },\n",
    "    \"lucios\":{        \"header\": 0, \n",
    "                    \"columns\": [\"Fabricante\", \"Código Fábrica\", \"Disponibilidade\", \"Preço\"],\n",
    "                    \"special_operation\": None\n",
    "                },\n",
    "    \"ima\":{            \"header\": 0, \n",
    "                    \"columns\": [\"Código XML\", \"Estoque\"],\n",
    "                    \"special_operation\": ima_process\n",
    "                },\n",
    "    \"compel\":{        \"header\": 0, \n",
    "                    \"columns\": [\"FABRICANTE\", \"COD FABRICA\", \"DISPONIBILIDADE\", \"PREÇO\"],\n",
    "                    \"special_operation\": compel_process\n",
    "                },\n",
    "    \"rufato\":{        \"header\": None, \n",
    "                    \"columns\": [5, 4, 3, 2],\n",
    "                    \"special_operation\": None\n",
    "                },\n",
    "    \"real\":{        \"header\": 0, \n",
    "                    \"columns\": [\"NOME_FANTASIA\", \"COD_FABRICANTE\", \"QTDE_SPLESTE\", \"PRECO_SPLESTE\"],\n",
    "                    \"special_operation\": None\n",
    "                },\n",
    "    \"jahu\":{        \"header\": 0, \n",
    "                    \"columns\": ['Marca','Cód.Fabricante', 'Preco','Disponivel'],\n",
    "                    \"special_operation\": jahu_process\n",
    "                },\n",
    "}"
   ]
  },
  {
   "cell_type": "code",
   "execution_count": 4,
   "id": "534b0c36",
   "metadata": {
    "scrolled": true
   },
   "outputs": [
    {
     "name": "stdout",
     "output_type": "stream",
     "text": [
      "..\\data\\originals\\00-Prod_Metal_001.xlsx ==== metal 0\n"
     ]
    },
    {
     "ename": "NameError",
     "evalue": "name 'file_columns' is not defined",
     "output_type": "error",
     "traceback": [
      "\u001b[1;31m---------------------------------------------------------------------------\u001b[0m",
      "\u001b[1;31mNameError\u001b[0m                                 Traceback (most recent call last)",
      "\u001b[1;32m~\\AppData\\Local\\Temp/ipykernel_2832/2940388686.py\u001b[0m in \u001b[0;36m<module>\u001b[1;34m\u001b[0m\n\u001b[0;32m      7\u001b[0m         \u001b[1;32mif\u001b[0m \u001b[0msupplier_code\u001b[0m \u001b[1;32min\u001b[0m \u001b[0mfile\u001b[0m\u001b[1;33m.\u001b[0m\u001b[0mlower\u001b[0m\u001b[1;33m(\u001b[0m\u001b[1;33m)\u001b[0m\u001b[1;33m:\u001b[0m\u001b[1;33m\u001b[0m\u001b[1;33m\u001b[0m\u001b[0m\n\u001b[0;32m      8\u001b[0m             \u001b[0mprint\u001b[0m\u001b[1;33m(\u001b[0m\u001b[0mfile\u001b[0m\u001b[1;33m,\u001b[0m \u001b[1;34m\"====\"\u001b[0m\u001b[1;33m,\u001b[0m \u001b[0msupplier_code\u001b[0m\u001b[1;33m,\u001b[0m \u001b[0mfile_columns\u001b[0m\u001b[1;33m[\u001b[0m\u001b[0msupplier_code\u001b[0m\u001b[1;33m]\u001b[0m\u001b[1;33m[\u001b[0m\u001b[1;34m\"header\"\u001b[0m\u001b[1;33m]\u001b[0m\u001b[1;33m)\u001b[0m\u001b[1;33m\u001b[0m\u001b[1;33m\u001b[0m\u001b[0m\n\u001b[1;32m----> 9\u001b[1;33m             all_df.append(read_file( #dataframes are added one by one and merged all at once\n\u001b[0m\u001b[0;32m     10\u001b[0m                 \u001b[0mfile\u001b[0m\u001b[1;33m,\u001b[0m\u001b[1;33m\u001b[0m\u001b[1;33m\u001b[0m\u001b[0m\n\u001b[0;32m     11\u001b[0m                 \u001b[0msupplier_code\u001b[0m\u001b[1;33m,\u001b[0m\u001b[1;33m\u001b[0m\u001b[1;33m\u001b[0m\u001b[0m\n",
      "\u001b[1;32mE:\\Dropbox\\Pessoal\\Python\\trabalho\\Upwork\\New-stock-system\\data_merge\\read_file.py\u001b[0m in \u001b[0;36mread_file\u001b[1;34m(file, supplier_code, header, special_operation)\u001b[0m\n\u001b[0;32m     21\u001b[0m         df = pd.read_excel(\n\u001b[0;32m     22\u001b[0m             \u001b[0mio\u001b[0m \u001b[1;33m=\u001b[0m \u001b[1;34mFr\"{file}\"\u001b[0m\u001b[1;33m,\u001b[0m\u001b[1;33m\u001b[0m\u001b[1;33m\u001b[0m\u001b[0m\n\u001b[1;32m---> 23\u001b[1;33m             \u001b[0mheader\u001b[0m \u001b[1;33m=\u001b[0m \u001b[0mfile_columns\u001b[0m\u001b[1;33m[\u001b[0m\u001b[0msupplier_code\u001b[0m\u001b[1;33m]\u001b[0m\u001b[1;33m[\u001b[0m\u001b[1;34m\"header\"\u001b[0m\u001b[1;33m]\u001b[0m\u001b[1;33m,\u001b[0m\u001b[1;33m\u001b[0m\u001b[1;33m\u001b[0m\u001b[0m\n\u001b[0m\u001b[0;32m     24\u001b[0m             \u001b[0musecols\u001b[0m \u001b[1;33m=\u001b[0m \u001b[0mfile_columns\u001b[0m\u001b[1;33m[\u001b[0m\u001b[0msupplier_code\u001b[0m\u001b[1;33m]\u001b[0m\u001b[1;33m[\u001b[0m\u001b[1;34m\"columns\"\u001b[0m\u001b[1;33m]\u001b[0m\u001b[1;33m\u001b[0m\u001b[1;33m\u001b[0m\u001b[0m\n\u001b[0;32m     25\u001b[0m             )[file_columns[supplier_code][\"columns\"]] #To maintain parsed columns orders\n",
      "\u001b[1;31mNameError\u001b[0m: name 'file_columns' is not defined"
     ]
    }
   ],
   "source": [
    "# Starts with a empty list that is populated with every data from the files list using the read_file function\n",
    "\n",
    "all_df = []\n",
    "for file in files:\n",
    "    file_columns_keys = list(file_columns.keys())\n",
    "    for supplier_code in file_columns_keys:\n",
    "        if supplier_code in file.lower():\n",
    "            print(file, \"====\", supplier_code, file_columns[supplier_code][\"header\"])\n",
    "            all_df.append(read_file( #dataframes are added one by one and merged all at once\n",
    "                file, \n",
    "                supplier_code, \n",
    "                header = file_columns[supplier_code][\"header\"], \n",
    "                special_operation = file_columns[supplier_code][\"special_operation\"]))\n",
    "            \n",
    "            \n",
    "#saves the combined dataframe\n",
    "pd.concat(all_df, ignore_index = True).to_csv('..\\data\\merged_database\\combined.csv')\n"
   ]
  },
  {
   "cell_type": "code",
   "execution_count": null,
   "id": "60b0ae07",
   "metadata": {},
   "outputs": [],
   "source": []
  }
 ],
 "metadata": {
  "hide_input": false,
  "kernelspec": {
   "display_name": "Python 3 (ipykernel)",
   "language": "python",
   "name": "python3"
  },
  "language_info": {
   "codemirror_mode": {
    "name": "ipython",
    "version": 3
   },
   "file_extension": ".py",
   "mimetype": "text/x-python",
   "name": "python",
   "nbconvert_exporter": "python",
   "pygments_lexer": "ipython3",
   "version": "3.9.7"
  },
  "varInspector": {
   "cols": {
    "lenName": 16,
    "lenType": 16,
    "lenVar": 40
   },
   "kernels_config": {
    "python": {
     "delete_cmd_postfix": "",
     "delete_cmd_prefix": "del ",
     "library": "var_list.py",
     "varRefreshCmd": "print(var_dic_list())"
    },
    "r": {
     "delete_cmd_postfix": ") ",
     "delete_cmd_prefix": "rm(",
     "library": "var_list.r",
     "varRefreshCmd": "cat(var_dic_list()) "
    }
   },
   "types_to_exclude": [
    "module",
    "function",
    "builtin_function_or_method",
    "instance",
    "_Feature"
   ],
   "window_display": false
  }
 },
 "nbformat": 4,
 "nbformat_minor": 5
}
